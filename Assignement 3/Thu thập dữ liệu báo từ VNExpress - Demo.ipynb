{
 "cells": [
  {
   "cell_type": "markdown",
   "metadata": {
    "id": "kfHnxgCeRVaC"
   },
   "source": [
    "# Bài toán\n",
    "\n",
    "> **Thu thập dữ liệu báo Việt Nam (VnExpress - Demo)**\n",
    "\n",
    "Mục tiêu:\n",
    "\n",
    "- Hiểu được quy trình thu thập dữ liệu từ các trang báo Việt Nam\n",
    "- Thu thập dữ liệu (bài báo) từ các trang báo Việt Nam để làm dữ liệu cho các bước xử lý sau\n",
    "\n",
    "Đầu ra:\n",
    "\n",
    "-  Tập file JSON chứa các bài bài báo có các trường dữ liệu:\n",
    "\n",
    "    - `url`: link dẫn đến bài báo\n",
    "    - `title`: tiêu đề bài báo\n",
    "    - `description`: tóm tắt bài báo\n",
    "    - `content`: nội dung bài báo\n",
    "    - `metadata`: trường dữ liệu bổ sung\n",
    "\n",
    "        - `cat`: thể loại bài báo\n",
    "        - `subcat`: thể loại con của bài báo\n",
    "        - `published_date`: thời gian xuất bản\n",
    "        - `author`: người viết\n",
    "    \n",
    "- Ví dụ về một bài báo:\n",
    "\n",
    "    ```\n",
    "    {\n",
    "        \"url\": \"https://vnexpress.net/chinh-phu-ban-hanh-nghi-dinh-moi-ve-gia-dat-4763835.html\",\n",
    "        \"title\": \"Chính phủ ban hành nghị định mới về giá đất\",\n",
    "        \"description\": \"Chính phủ hôm nay ban hành Nghị định 71, trong đó quy ...\",\n",
    "        \"content\": \"Nghị định này có hiệu lực khi Luật Đất đai 2024 được thi hành ...\",\n",
    "        \"metadata\": {\n",
    "            \"cat\": \"Bất động sản\",\n",
    "            \"subcat\": \"Chính sách\",\n",
    "            \"published_date\": 1719575647,\n",
    "            \"author\": \"Anh Tú\"\n",
    "        }\n",
    "    },\n",
    "    ```"
   ]
  },
  {
   "cell_type": "markdown",
   "metadata": {
    "id": "ANWayZpLQic7"
   },
   "source": [
    "# Các bước tiến hành"
   ]
  },
  {
   "cell_type": "markdown",
   "metadata": {
    "id": "7ZZDlcMrQic_"
   },
   "source": [
    "## Chuẩn bị các thư viện cần thiết"
   ]
  },
  {
   "cell_type": "code",
   "execution_count": 15,
   "metadata": {
    "colab": {
     "base_uri": "https://localhost:8080/"
    },
    "executionInfo": {
     "elapsed": 33645,
     "status": "ok",
     "timestamp": 1722506335067,
     "user": {
      "displayName": "Duc Nguyen Quang",
      "userId": "13435852976191392349"
     },
     "user_tz": -420
    },
    "id": "0LIvPhdLP61Z",
    "outputId": "99706c43-30e3-4017-fdb0-2ccaaf7bfb70"
   },
   "outputs": [
    {
     "name": "stderr",
     "output_type": "stream",
     "text": [
      "'apt' is not recognized as an internal or external command,\n",
      "operable program or batch file.\n"
     ]
    }
   ],
   "source": [
    "# Suitable for Google Colab, for local please follow the external instructions and ignore this line\n",
    "# and follows https://docs.google.com/document/d/14jK9d6KHJYX0b-gFAVqAghUxT7OLAM0nP2IovL7_Rjs/edit?usp=sharing\n",
    "!apt install -qq chromium-chromedriver"
   ]
  },
  {
   "cell_type": "code",
   "execution_count": 16,
   "metadata": {
    "colab": {
     "base_uri": "https://localhost:8080/"
    },
    "executionInfo": {
     "elapsed": 8735,
     "status": "ok",
     "timestamp": 1722506343796,
     "user": {
      "displayName": "Duc Nguyen Quang",
      "userId": "13435852976191392349"
     },
     "user_tz": -420
    },
    "id": "uAgbi-xTT9rq",
    "outputId": "06c01615-c176-4816-f776-948ac6c7bb9d"
   },
   "outputs": [
    {
     "name": "stderr",
     "output_type": "stream",
     "text": [
      "A subdirectory or file -p already exists.\n",
      "Error occurred while processing: -p.\n",
      "A subdirectory or file data already exists.\n",
      "Error occurred while processing: data.\n"
     ]
    }
   ],
   "source": [
    "# Install selenium\n",
    "!pip install -qq selenium\n",
    "\n",
    "# Tạo thư mục để chứa data\n",
    "!mkdir -p data"
   ]
  },
  {
   "cell_type": "code",
   "execution_count": 1,
   "metadata": {
    "id": "xYKVCqVdQidA"
   },
   "outputs": [],
   "source": [
    "# selenium import\n",
    "from selenium import webdriver\n",
    "from selenium.webdriver.chrome.service import Service\n",
    "from selenium.webdriver.common.by import By\n",
    "from selenium.common.exceptions import StaleElementReferenceException, NoSuchElementException\n",
    "\n",
    "# other imports\n",
    "import os\n",
    "import json"
   ]
  },
  {
   "cell_type": "code",
   "execution_count": 2,
   "metadata": {
    "id": "W1nuvz0CQidC"
   },
   "outputs": [],
   "source": [
    "# selenium setups\n",
    "## https://www.tutorialspoint.com/selenium/selenium_webdriver_chrome_webdriver_options.htm\n",
    "\n",
    "chrome_options = webdriver.ChromeOptions()\n",
    "\n",
    "# chrome_options.add_argument('--headless') # must options for Google Colab\n",
    "chrome_options.add_argument('--no-sandbox')\n",
    "chrome_options.add_argument('--disable-dev-shm-usage')\n",
    "chrome_options.add_argument(\"--disable-extensions\")\n",
    "chrome_options.add_argument(\"--disable-gpu\")\n"
   ]
  },
  {
   "cell_type": "code",
   "execution_count": 3,
   "metadata": {
    "id": "VSSeTnvTXUvb"
   },
   "outputs": [],
   "source": [
    "MAGAZINE_NAME = \"vnexpress\"\n",
    "HOME_PAGE = \"https://vnexpress.net/\""
   ]
  },
  {
   "cell_type": "markdown",
   "metadata": {
    "id": "GYQuF0tnQidF"
   },
   "source": [
    "## Thu thập dữ liệu\n",
    "\n",
    "> **Các bước thu thập bài báo**\n",
    "\n",
    "\n",
    "1. News categories: Thu thập tất cả các thể loại báo của website\n",
    "2. News urls: Thu thập một số đường dẫn dựa vài từng thể loại báo của website đó\n",
    "3. News articles: Thu thập và xử lý từng bài báo dựa vào đường dẫn của bước trước"
   ]
  },
  {
   "cell_type": "markdown",
   "metadata": {
    "id": "xyHM7QIPQidG"
   },
   "source": [
    "### Thu thập thể loại bài báo của website: Crawling categories\n",
    "\n",
    "> **Các bước thu thập**\n",
    "\n",
    "1. Vào trang chủ của báo\n",
    "2. Thu thập các thể loại ở mục menu\n"
   ]
  },
  {
   "cell_type": "markdown",
   "metadata": {
    "id": "kx1W0AigY9po"
   },
   "source": [
    "Vào trang chủ"
   ]
  },
  {
   "cell_type": "code",
   "execution_count": 4,
   "metadata": {
    "id": "sVO804PQQidG"
   },
   "outputs": [],
   "source": [
    "driver = webdriver.Chrome(options=chrome_options)\n",
    "# Vào trang web chính, mặc định phải chờ toàn bộ trang webload mới xong\n",
    "driver.get(HOME_PAGE)"
   ]
  },
  {
   "cell_type": "markdown",
   "metadata": {
    "id": "twFoPf3UY_lj"
   },
   "source": [
    "Chọn menu buttons"
   ]
  },
  {
   "cell_type": "code",
   "execution_count": 8,
   "metadata": {
    "id": "UrQC9Fp2QidG"
   },
   "outputs": [
    {
     "ename": "ElementNotInteractableException",
     "evalue": "Message: element not interactable\n  (Session info: chrome=140.0.7339.128); For documentation on this error, please visit: https://www.selenium.dev/documentation/webdriver/troubleshooting/errors#elementnotinteractableexception\nStacktrace:\n\tGetHandleVerifier [0x0x7ff6103cfc95+79861]\n\tGetHandleVerifier [0x0x7ff6103cfcf0+79952]\n\t(No symbol) [0x0x7ff61014c8fc]\n\t(No symbol) [0x0x7ff6101a59c3]\n\t(No symbol) [0x0x7ff610197338]\n\t(No symbol) [0x0x7ff6101ccada]\n\t(No symbol) [0x0x7ff610196bc6]\n\t(No symbol) [0x0x7ff6101cccf0]\n\t(No symbol) [0x0x7ff6101f4f8b]\n\t(No symbol) [0x0x7ff6101cc8b3]\n\t(No symbol) [0x0x7ff610195272]\n\t(No symbol) [0x0x7ff610196043]\n\tGetHandleVerifier [0x0x7ff61068b9cd+2946349]\n\tGetHandleVerifier [0x0x7ff610685c4a+2922410]\n\tGetHandleVerifier [0x0x7ff6106a59d7+3052855]\n\tGetHandleVerifier [0x0x7ff6103eaa7e+189918]\n\tGetHandleVerifier [0x0x7ff6103f2a1f+222591]\n\tGetHandleVerifier [0x0x7ff6103d8ab4+116244]\n\tGetHandleVerifier [0x0x7ff6103d8c69+116681]\n\tGetHandleVerifier [0x0x7ff6103bf048+11176]\n\tBaseThreadInitThunk [0x0x7ffe5862e8d7+23]\n\tRtlUserThreadStart [0x0x7ffe595a8d9c+44]\n",
     "output_type": "error",
     "traceback": [
      "\u001b[1;31m---------------------------------------------------------------------------\u001b[0m",
      "\u001b[1;31mElementNotInteractableException\u001b[0m           Traceback (most recent call last)",
      "Cell \u001b[1;32mIn[8], line 7\u001b[0m\n\u001b[0;32m      4\u001b[0m all_menu \u001b[38;5;241m=\u001b[39m driver\u001b[38;5;241m.\u001b[39mfind_element(by\u001b[38;5;241m=\u001b[39mBy\u001b[38;5;241m.\u001b[39mCLASS_NAME, value\u001b[38;5;241m=\u001b[39m\u001b[38;5;124m\"\u001b[39m\u001b[38;5;124mall-menu\u001b[39m\u001b[38;5;124m\"\u001b[39m)\n\u001b[0;32m      6\u001b[0m \u001b[38;5;66;03m## Click vào menu\u001b[39;00m\n\u001b[1;32m----> 7\u001b[0m \u001b[43mall_menu\u001b[49m\u001b[38;5;241;43m.\u001b[39;49m\u001b[43mclick\u001b[49m\u001b[43m(\u001b[49m\u001b[43m)\u001b[49m \u001b[38;5;66;03m#\u001b[39;00m\n",
      "File \u001b[1;32m~\\AppData\\Local\\Packages\\PythonSoftwareFoundation.Python.3.11_qbz5n2kfra8p0\\LocalCache\\local-packages\\Python311\\site-packages\\selenium\\webdriver\\remote\\webelement.py:120\u001b[0m, in \u001b[0;36mWebElement.click\u001b[1;34m(self)\u001b[0m\n\u001b[0;32m    112\u001b[0m \u001b[38;5;28;01mdef\u001b[39;00m \u001b[38;5;21mclick\u001b[39m(\u001b[38;5;28mself\u001b[39m) \u001b[38;5;241m-\u001b[39m\u001b[38;5;241m>\u001b[39m \u001b[38;5;28;01mNone\u001b[39;00m:\n\u001b[0;32m    113\u001b[0m \u001b[38;5;250m    \u001b[39m\u001b[38;5;124;03m\"\"\"Clicks the element.\u001b[39;00m\n\u001b[0;32m    114\u001b[0m \n\u001b[0;32m    115\u001b[0m \u001b[38;5;124;03m    Example:\u001b[39;00m\n\u001b[1;32m   (...)\u001b[0m\n\u001b[0;32m    118\u001b[0m \u001b[38;5;124;03m    >>> element.click()\u001b[39;00m\n\u001b[0;32m    119\u001b[0m \u001b[38;5;124;03m    \"\"\"\u001b[39;00m\n\u001b[1;32m--> 120\u001b[0m     \u001b[38;5;28;43mself\u001b[39;49m\u001b[38;5;241;43m.\u001b[39;49m\u001b[43m_execute\u001b[49m\u001b[43m(\u001b[49m\u001b[43mCommand\u001b[49m\u001b[38;5;241;43m.\u001b[39;49m\u001b[43mCLICK_ELEMENT\u001b[49m\u001b[43m)\u001b[49m\n",
      "File \u001b[1;32m~\\AppData\\Local\\Packages\\PythonSoftwareFoundation.Python.3.11_qbz5n2kfra8p0\\LocalCache\\local-packages\\Python311\\site-packages\\selenium\\webdriver\\remote\\webelement.py:573\u001b[0m, in \u001b[0;36mWebElement._execute\u001b[1;34m(self, command, params)\u001b[0m\n\u001b[0;32m    571\u001b[0m     params \u001b[38;5;241m=\u001b[39m {}\n\u001b[0;32m    572\u001b[0m params[\u001b[38;5;124m\"\u001b[39m\u001b[38;5;124mid\u001b[39m\u001b[38;5;124m\"\u001b[39m] \u001b[38;5;241m=\u001b[39m \u001b[38;5;28mself\u001b[39m\u001b[38;5;241m.\u001b[39m_id\n\u001b[1;32m--> 573\u001b[0m \u001b[38;5;28;01mreturn\u001b[39;00m \u001b[38;5;28;43mself\u001b[39;49m\u001b[38;5;241;43m.\u001b[39;49m\u001b[43m_parent\u001b[49m\u001b[38;5;241;43m.\u001b[39;49m\u001b[43mexecute\u001b[49m\u001b[43m(\u001b[49m\u001b[43mcommand\u001b[49m\u001b[43m,\u001b[49m\u001b[43m \u001b[49m\u001b[43mparams\u001b[49m\u001b[43m)\u001b[49m\n",
      "File \u001b[1;32m~\\AppData\\Local\\Packages\\PythonSoftwareFoundation.Python.3.11_qbz5n2kfra8p0\\LocalCache\\local-packages\\Python311\\site-packages\\selenium\\webdriver\\remote\\webdriver.py:458\u001b[0m, in \u001b[0;36mWebDriver.execute\u001b[1;34m(self, driver_command, params)\u001b[0m\n\u001b[0;32m    455\u001b[0m response \u001b[38;5;241m=\u001b[39m cast(RemoteConnection, \u001b[38;5;28mself\u001b[39m\u001b[38;5;241m.\u001b[39mcommand_executor)\u001b[38;5;241m.\u001b[39mexecute(driver_command, params)\n\u001b[0;32m    457\u001b[0m \u001b[38;5;28;01mif\u001b[39;00m response:\n\u001b[1;32m--> 458\u001b[0m     \u001b[38;5;28;43mself\u001b[39;49m\u001b[38;5;241;43m.\u001b[39;49m\u001b[43merror_handler\u001b[49m\u001b[38;5;241;43m.\u001b[39;49m\u001b[43mcheck_response\u001b[49m\u001b[43m(\u001b[49m\u001b[43mresponse\u001b[49m\u001b[43m)\u001b[49m\n\u001b[0;32m    459\u001b[0m     response[\u001b[38;5;124m\"\u001b[39m\u001b[38;5;124mvalue\u001b[39m\u001b[38;5;124m\"\u001b[39m] \u001b[38;5;241m=\u001b[39m \u001b[38;5;28mself\u001b[39m\u001b[38;5;241m.\u001b[39m_unwrap_value(response\u001b[38;5;241m.\u001b[39mget(\u001b[38;5;124m\"\u001b[39m\u001b[38;5;124mvalue\u001b[39m\u001b[38;5;124m\"\u001b[39m, \u001b[38;5;28;01mNone\u001b[39;00m))\n\u001b[0;32m    460\u001b[0m     \u001b[38;5;28;01mreturn\u001b[39;00m response\n",
      "File \u001b[1;32m~\\AppData\\Local\\Packages\\PythonSoftwareFoundation.Python.3.11_qbz5n2kfra8p0\\LocalCache\\local-packages\\Python311\\site-packages\\selenium\\webdriver\\remote\\errorhandler.py:232\u001b[0m, in \u001b[0;36mErrorHandler.check_response\u001b[1;34m(self, response)\u001b[0m\n\u001b[0;32m    230\u001b[0m         alert_text \u001b[38;5;241m=\u001b[39m value[\u001b[38;5;124m\"\u001b[39m\u001b[38;5;124malert\u001b[39m\u001b[38;5;124m\"\u001b[39m]\u001b[38;5;241m.\u001b[39mget(\u001b[38;5;124m\"\u001b[39m\u001b[38;5;124mtext\u001b[39m\u001b[38;5;124m\"\u001b[39m)\n\u001b[0;32m    231\u001b[0m     \u001b[38;5;28;01mraise\u001b[39;00m exception_class(message, screen, stacktrace, alert_text)  \u001b[38;5;66;03m# type: ignore[call-arg]  # mypy is not smart enough here\u001b[39;00m\n\u001b[1;32m--> 232\u001b[0m \u001b[38;5;28;01mraise\u001b[39;00m exception_class(message, screen, stacktrace)\n",
      "\u001b[1;31mElementNotInteractableException\u001b[0m: Message: element not interactable\n  (Session info: chrome=140.0.7339.128); For documentation on this error, please visit: https://www.selenium.dev/documentation/webdriver/troubleshooting/errors#elementnotinteractableexception\nStacktrace:\n\tGetHandleVerifier [0x0x7ff6103cfc95+79861]\n\tGetHandleVerifier [0x0x7ff6103cfcf0+79952]\n\t(No symbol) [0x0x7ff61014c8fc]\n\t(No symbol) [0x0x7ff6101a59c3]\n\t(No symbol) [0x0x7ff610197338]\n\t(No symbol) [0x0x7ff6101ccada]\n\t(No symbol) [0x0x7ff610196bc6]\n\t(No symbol) [0x0x7ff6101cccf0]\n\t(No symbol) [0x0x7ff6101f4f8b]\n\t(No symbol) [0x0x7ff6101cc8b3]\n\t(No symbol) [0x0x7ff610195272]\n\t(No symbol) [0x0x7ff610196043]\n\tGetHandleVerifier [0x0x7ff61068b9cd+2946349]\n\tGetHandleVerifier [0x0x7ff610685c4a+2922410]\n\tGetHandleVerifier [0x0x7ff6106a59d7+3052855]\n\tGetHandleVerifier [0x0x7ff6103eaa7e+189918]\n\tGetHandleVerifier [0x0x7ff6103f2a1f+222591]\n\tGetHandleVerifier [0x0x7ff6103d8ab4+116244]\n\tGetHandleVerifier [0x0x7ff6103d8c69+116681]\n\tGetHandleVerifier [0x0x7ff6103bf048+11176]\n\tBaseThreadInitThunk [0x0x7ffe5862e8d7+23]\n\tRtlUserThreadStart [0x0x7ffe595a8d9c+44]\n"
     ]
    }
   ],
   "source": [
    "# Chọn menu buttons\n",
    "\n",
    "## Chọn element theo class_name == \"all-menu\"\n",
    "all_menu = driver.find_element(by=By.CLASS_NAME, value=\"all-menu\")\n",
    "\n",
    "## Click vào menu\n",
    "all_menu.click() #"
   ]
  },
  {
   "cell_type": "markdown",
   "metadata": {
    "id": "K-tNzlW_ZIrY"
   },
   "source": [
    "Thu thập hết thể loại:\n",
    "\n",
    "* Cách chọn elements ở web trong selenium: https://selenium-python.readthedocs.io/locating-elements.html"
   ]
  },
  {
   "cell_type": "code",
   "execution_count": 9,
   "metadata": {
    "id": "HvKzA3GuQidH"
   },
   "outputs": [],
   "source": [
    "# Lấy hết tất cả thể loại từ đây\n",
    "cats = []\n",
    "\n",
    "# Chọn row-menu bằng class_name\n",
    "row_menu = driver.find_element(by=By.CLASS_NAME, value=\"row-menu\")\n",
    "\n",
    "# Ta thấy mỗi thể loại ở trong element là cat-menu element --> ta lấy hết elements bằng dùng find_elements; find_element -> chọn element đầu tiên match\n",
    "cat_menus = row_menu.find_elements(by=By.CLASS_NAME, value=\"cat-menu\")\n",
    "\n",
    "for cat_menu in cat_menus: # Loop through cat menus to main cat and corresponding links\n",
    "    # Lấy element đầu tiên\n",
    "    cat = cat_menu.find_element(by=By.TAG_NAME, value=\"a\").get_attribute(\"title\").strip()\n",
    "    href = cat_menu.find_element(by=By.TAG_NAME, value=\"a\").get_attribute(\"href\").strip()\n",
    "    # Lưu vào cats list bao gồm tên và url\n",
    "    cats.append({\"cat_name\": cat, \"url\": href})\n"
   ]
  },
  {
   "cell_type": "code",
   "execution_count": 11,
   "metadata": {
    "colab": {
     "base_uri": "https://localhost:8080/"
    },
    "executionInfo": {
     "elapsed": 4,
     "status": "ok",
     "timestamp": 1722506454989,
     "user": {
      "displayName": "Duc Nguyen Quang",
      "userId": "13435852976191392349"
     },
     "user_tz": -420
    },
    "id": "bd8bhz7AQidI",
    "outputId": "01fa1917-1411-4770-928f-923d87e7580c"
   },
   "outputs": [
    {
     "data": {
      "text/plain": [
       "([{'cat_name': 'VnE-GO', 'url': 'https://vnexpress.net/vne-go'},\n",
       "  {'cat_name': 'Thời sự', 'url': 'https://vnexpress.net/thoi-su'},\n",
       "  {'cat_name': 'Thế giới', 'url': 'https://vnexpress.net/the-gioi'},\n",
       "  {'cat_name': 'Kinh doanh', 'url': 'https://vnexpress.net/kinh-doanh'},\n",
       "  {'cat_name': 'Khoa học công nghệ',\n",
       "   'url': 'https://vnexpress.net/khoa-hoc-cong-nghe'},\n",
       "  {'cat_name': 'Giải trí', 'url': 'https://vnexpress.net/giai-tri'},\n",
       "  {'cat_name': 'Pháp luật', 'url': 'https://vnexpress.net/phap-luat'},\n",
       "  {'cat_name': 'Góc nhìn', 'url': 'https://vnexpress.net/goc-nhin'},\n",
       "  {'cat_name': 'Bất động sản', 'url': 'https://vnexpress.net/bat-dong-san'},\n",
       "  {'cat_name': 'Sức khỏe', 'url': 'https://vnexpress.net/suc-khoe'},\n",
       "  {'cat_name': 'Thể thao', 'url': 'https://vnexpress.net/the-thao'},\n",
       "  {'cat_name': 'Ý kiến', 'url': 'https://vnexpress.net/y-kien'},\n",
       "  {'cat_name': 'Tâm sự', 'url': 'https://vnexpress.net/tam-su'},\n",
       "  {'cat_name': 'Giáo dục', 'url': 'https://vnexpress.net/giao-duc'},\n",
       "  {'cat_name': 'Đời sống', 'url': 'https://vnexpress.net/doi-song'},\n",
       "  {'cat_name': 'Xe', 'url': 'https://vnexpress.net/oto-xe-may'},\n",
       "  {'cat_name': 'Du lịch', 'url': 'https://vnexpress.net/du-lich'},\n",
       "  {'cat_name': 'Thư giãn', 'url': 'https://vnexpress.net/thu-gian'}],\n",
       " 18)"
      ]
     },
     "execution_count": 11,
     "metadata": {},
     "output_type": "execute_result"
    }
   ],
   "source": [
    "cats, len(cats)"
   ]
  },
  {
   "cell_type": "code",
   "execution_count": 12,
   "metadata": {
    "id": "8V8Nz8VaQidJ"
   },
   "outputs": [],
   "source": [
    "# Đóng driver sau khi dùng xong\n",
    "driver.close()"
   ]
  },
  {
   "cell_type": "markdown",
   "metadata": {
    "id": "GS4KAh6LQidJ"
   },
   "source": [
    "### Thu thập một số đường dẫn dựa vài từng thể loại báo của website đó: News urls"
   ]
  },
  {
   "cell_type": "markdown",
   "metadata": {
    "id": "9ZRNDXMSbgYu"
   },
   "source": [
    "\n",
    "> **Cách thu thập**\n",
    "\n",
    "Từ những thể loại và đường link tương ứng, ta lần lượt vào từng thể loại và lấy đường dẫn của các bài báo trong mục đó của trang web đó.\n",
    "\n"
   ]
  },
  {
   "cell_type": "markdown",
   "metadata": {
    "id": "_mVELCka965p"
   },
   "source": [
    "#### Cài đặt thông số"
   ]
  },
  {
   "cell_type": "code",
   "execution_count": 13,
   "metadata": {
    "id": "8lrCdNDFQidJ"
   },
   "outputs": [],
   "source": [
    "# Đặt số lượng đường dẫn cần lấy trong mỗi thể loại báo\n",
    "NUM_ARTICLES_PER_CAT = 30 # có thể tăng lên\n",
    "\n",
    "# Đường dẫn lưu data của vnexpress\n",
    "DATA_URL_FILE = \"data/vnexpress_url.json\"\n",
    "\n",
    "# Một số thể loại không quan tâm\n",
    "EXCLUDING_CATEGORIES = [\"Video\", \"Podcasts\", \"Góc nhìn\", \"Tâm sự\", \"Thư giãn\", \"Ý kiến\"]\n",
    "\n",
    "# Bổ sung cài đặt chromedriver\n",
    "## Ta đặt load stategy ở đây là normal: https://www.selenium.dev/documentation/webdriver/drivers/options/\n",
    "chrome_options.page_load_strategy = \"normal\""
   ]
  },
  {
   "cell_type": "markdown",
   "metadata": {
    "id": "HXqbSywPQidL"
   },
   "source": [
    "#### Chạy thử nghiệm"
   ]
  },
  {
   "cell_type": "code",
   "execution_count": 35,
   "metadata": {
    "id": "d7WDYsTxQidL"
   },
   "outputs": [],
   "source": [
    "driver = webdriver.Chrome(options=chrome_options)"
   ]
  },
  {
   "cell_type": "code",
   "execution_count": 36,
   "metadata": {
    "id": "q18gAPm2QidM"
   },
   "outputs": [],
   "source": [
    "# Vào thử một url\n",
    "driver.get(cats[0]['url'])"
   ]
  },
  {
   "cell_type": "code",
   "execution_count": 37,
   "metadata": {
    "id": "ngcgLLEJQidM"
   },
   "outputs": [],
   "source": [
    "# Get all item-news class item\n",
    "title_news = driver.find_elements(by=By.CLASS_NAME, value=\"title-news\")"
   ]
  },
  {
   "cell_type": "code",
   "execution_count": 39,
   "metadata": {
    "colab": {
     "base_uri": "https://localhost:8080/",
     "height": 36
    },
    "executionInfo": {
     "elapsed": 416,
     "status": "ok",
     "timestamp": 1722164192578,
     "user": {
      "displayName": "Duc Nguyen Quang",
      "userId": "13435852976191392349"
     },
     "user_tz": -420
    },
    "id": "PnRWUbFYQidM",
    "outputId": "f0579dd1-2f73-4ccd-b9b4-48ad90ac7b67"
   },
   "outputs": [
    {
     "data": {
      "text/plain": [
       "'https://vnexpress.net/thu-tuong-lap-quy-hoc-bong-quoc-gia-tang-chi-cho-giao-duc-4939531.html'"
      ]
     },
     "execution_count": 39,
     "metadata": {},
     "output_type": "execute_result"
    }
   ],
   "source": [
    "# Lấy đường dẫn\n",
    "url_new = title_news[0].find_element(by=By.TAG_NAME, value=\"a\").get_attribute(\"href\")\n",
    "url_new"
   ]
  },
  {
   "cell_type": "code",
   "execution_count": 40,
   "metadata": {
    "colab": {
     "base_uri": "https://localhost:8080/"
    },
    "executionInfo": {
     "elapsed": 396,
     "status": "ok",
     "timestamp": 1722164195913,
     "user": {
      "displayName": "Duc Nguyen Quang",
      "userId": "13435852976191392349"
     },
     "user_tz": -420
    },
    "id": "0K5Nu3c2QidM",
    "outputId": "fd0c0ef2-8e29-4bfb-afd8-498b00b9b7e6"
   },
   "outputs": [
    {
     "data": {
      "text/plain": [
       "True"
      ]
     },
     "execution_count": 40,
     "metadata": {},
     "output_type": "execute_result"
    }
   ],
   "source": [
    "# Chỉ lấy links bắt đầu giống HOME_PAGE\n",
    "url_new.startswith(HOME_PAGE)"
   ]
  },
  {
   "cell_type": "code",
   "execution_count": 41,
   "metadata": {
    "colab": {
     "base_uri": "https://localhost:8080/",
     "height": 36
    },
    "executionInfo": {
     "elapsed": 634,
     "status": "ok",
     "timestamp": 1722164198282,
     "user": {
      "displayName": "Duc Nguyen Quang",
      "userId": "13435852976191392349"
     },
     "user_tz": -420
    },
    "id": "yw9c6loHQidN",
    "outputId": "330bd19c-748f-47d3-b7da-eecf82f97d29"
   },
   "outputs": [
    {
     "data": {
      "text/plain": [
       "'https://vnexpress.net/thoi-su-p2'"
      ]
     },
     "execution_count": 41,
     "metadata": {},
     "output_type": "execute_result"
    }
   ],
   "source": [
    "# Tìm next page\n",
    "driver.find_element(by=By.CLASS_NAME, value=\"next-page\").get_attribute(\"href\")"
   ]
  },
  {
   "cell_type": "code",
   "execution_count": null,
   "metadata": {
    "id": "uO43xm1bQidN"
   },
   "outputs": [],
   "source": [
    "driver.close()"
   ]
  },
  {
   "cell_type": "markdown",
   "metadata": {
    "id": "tF_aUViX9-0_"
   },
   "source": [
    "#### Chạy thật\n"
   ]
  },
  {
   "cell_type": "code",
   "execution_count": 43,
   "metadata": {
    "id": "ONEDcR18_Qfi"
   },
   "outputs": [],
   "source": [
    "driver = webdriver.Chrome(options=chrome_options)"
   ]
  },
  {
   "cell_type": "code",
   "execution_count": 50,
   "metadata": {
    "id": "ANgthbUXQidK"
   },
   "outputs": [],
   "source": [
    "# Global variables for filtering deduplicating urls\n",
    "crawled_urls = set()\n",
    "\n",
    "def crawl_each_category_url(driver, category_url):\n",
    "    \"\"\"\n",
    "    Functions cho lấy urls cho từng category sau khi thử nghiệm\n",
    "    \"\"\"\n",
    "    all_urls = set()\n",
    "    url = category_url\n",
    "\n",
    "    # Limit the number of NUM_ARTICLES_PER_CAT\n",
    "\n",
    "    while len(all_urls) < NUM_ARTICLES_PER_CAT:\n",
    "        driver.get(url)\n",
    "        title_news = driver.find_elements(by=By.CLASS_NAME, value=\"title-news\")\n",
    "        for title in title_news:\n",
    "            try:\n",
    "                url_new = title.find_element(by=By.TAG_NAME, value=\"a\").get_attribute(\"href\")\n",
    "                if url_new.startswith(HOME_PAGE) and url_new not in crawled_urls: #avoid ads, different sites news\n",
    "                    all_urls.add(url_new)\n",
    "                    crawled_urls.add(url_new) # avoid dedup url\n",
    "\n",
    "            # To see if there is bug\n",
    "            except StaleElementReferenceException:\n",
    "                continue\n",
    "            except NoSuchElementException:\n",
    "                print(f\"NoSuchElementException at {url}\")\n",
    "                continue\n",
    "\n",
    "        try:\n",
    "            url = driver.find_element(by=By.CLASS_NAME, value=\"next-page\").get_attribute(\"href\")\n",
    "        except NoSuchElementException:\n",
    "            break\n",
    "\n",
    "    return all_urls"
   ]
  },
  {
   "cell_type": "code",
   "execution_count": 51,
   "metadata": {
    "colab": {
     "base_uri": "https://localhost:8080/"
    },
    "executionInfo": {
     "elapsed": 263982,
     "status": "ok",
     "timestamp": 1722164518929,
     "user": {
      "displayName": "Duc Nguyen Quang",
      "userId": "13435852976191392349"
     },
     "user_tz": -420
    },
    "id": "XLU-yC8iQidK",
    "outputId": "bc46cebc-f050-4a2f-e59c-c56ad01e560d"
   },
   "outputs": [
    {
     "name": "stdout",
     "output_type": "stream",
     "text": [
      "You are at {'cat_name': 'Thời sự', 'url': 'https://vnexpress.net/thoi-su'}.\n",
      "You are at {'cat_name': 'Thế giới', 'url': 'https://vnexpress.net/the-gioi'}.\n",
      "You are at {'cat_name': 'Kinh doanh', 'url': 'https://vnexpress.net/kinh-doanh'}.\n",
      "You are at {'cat_name': 'Khoa học công nghệ', 'url': 'https://vnexpress.net/khoa-hoc-cong-nghe'}.\n",
      "You are at {'cat_name': 'Giải trí', 'url': 'https://vnexpress.net/giai-tri'}.\n",
      "You are at {'cat_name': 'Pháp luật', 'url': 'https://vnexpress.net/phap-luat'}.\n",
      "You are at {'cat_name': 'Bất động sản', 'url': 'https://vnexpress.net/bat-dong-san'}.\n",
      "You are at {'cat_name': 'Sức khỏe', 'url': 'https://vnexpress.net/suc-khoe'}.\n",
      "You are at {'cat_name': 'Thể thao', 'url': 'https://vnexpress.net/the-thao'}.\n",
      "You are at {'cat_name': 'Giáo dục', 'url': 'https://vnexpress.net/giao-duc'}.\n",
      "You are at {'cat_name': 'Đời sống', 'url': 'https://vnexpress.net/doi-song'}.\n",
      "You are at {'cat_name': 'Xe', 'url': 'https://vnexpress.net/oto-xe-may'}.\n",
      "You are at {'cat_name': 'Du lịch', 'url': 'https://vnexpress.net/du-lich'}.\n"
     ]
    }
   ],
   "source": [
    "saved_cats = {}\n",
    "\n",
    "# Thu thập cho từng thể loại\n",
    "for cat in cats:\n",
    "    cat_name = cat[\"cat_name\"]\n",
    "    url = cat[\"url\"]\n",
    "    if cat_name not in EXCLUDING_CATEGORIES:\n",
    "        print(f\"You are at {cat}.\")\n",
    "        urls = crawl_each_category_url(driver, url)\n",
    "        saved_cats[cat_name] = list(urls)\n",
    "\n",
    "with open(DATA_URL_FILE, \"w\", encoding='utf-8') as fOut:\n",
    "    json.dump(saved_cats, fOut, ensure_ascii=False, indent=4)\n",
    "\n",
    "driver.close()"
   ]
  },
  {
   "cell_type": "code",
   "execution_count": 53,
   "metadata": {
    "colab": {
     "base_uri": "https://localhost:8080/"
    },
    "executionInfo": {
     "elapsed": 626,
     "status": "ok",
     "timestamp": 1722164547732,
     "user": {
      "displayName": "Duc Nguyen Quang",
      "userId": "13435852976191392349"
     },
     "user_tz": -420
    },
    "id": "IAU1zkjZQidL",
    "outputId": "d7e6f559-5cca-4945-8a2f-b06eb3946dfa"
   },
   "outputs": [
    {
     "data": {
      "text/plain": [
       "652"
      ]
     },
     "execution_count": 53,
     "metadata": {},
     "output_type": "execute_result"
    }
   ],
   "source": [
    "len(crawled_urls)"
   ]
  },
  {
   "cell_type": "markdown",
   "metadata": {
    "id": "DEPy1mjPQidN"
   },
   "source": [
    "### Thu thập và xử lý từng bài báo dựa vào đường dẫn của bước trước: News articles\n",
    "\n",
    "\n",
    "> **Cách thu thập**\n",
    "\n",
    "Từ đường dẫn ở trong phần trước, ta lần lượt vào từng đường link đó và thu thập thông tin về bài báo."
   ]
  },
  {
   "cell_type": "markdown",
   "metadata": {
    "id": "2ms0OT9v_Y6M"
   },
   "source": [
    "#### Cài đặt thông số"
   ]
  },
  {
   "cell_type": "code",
   "execution_count": 57,
   "metadata": {
    "id": "xxqNs_ucmqlH"
   },
   "outputs": [],
   "source": [
    "# Filepath cho cái trước\n",
    "FILE_URL_PATH = \"data/vnexpress_url.json\"\n",
    "\n",
    "# Đặt limit số articles lấy từ mỗi thể loại\n",
    "MAX_ARTICLES_PER_CAT = 2 # Nếu set = None thì là tất cả các urls ở file trước\n",
    "\n",
    "# Data output, mỗi thể loại là 1 file json chứa articles\n",
    "DATA_FOLDER_OUTPUT = \"data/vnexpress\"\n",
    "#\n",
    "# !mkdir -p $DATA_FOLDER_OUTPUT\n",
    "from pathlib import Path\n",
    "Path(DATA_FOLDER_OUTPUT).mkdir(parents=True, exist_ok=True)\n",
    "\n",
    "# Để loading strategy về eager load nhanh, không quan tâm ảnh\n",
    "chrome_options.page_load_strategy = \"eager\""
   ]
  },
  {
   "cell_type": "code",
   "execution_count": 60,
   "metadata": {
    "colab": {
     "base_uri": "https://localhost:8080/"
    },
    "executionInfo": {
     "elapsed": 548,
     "status": "ok",
     "timestamp": 1722164593875,
     "user": {
      "displayName": "Duc Nguyen Quang",
      "userId": "13435852976191392349"
     },
     "user_tz": -420
    },
    "id": "tzzdPMDfw_P9",
    "outputId": "085c915a-1a8d-4de1-ab22-53af3c9d8949"
   },
   "outputs": [
    {
     "data": {
      "text/plain": [
       "13"
      ]
     },
     "execution_count": 60,
     "metadata": {},
     "output_type": "execute_result"
    }
   ],
   "source": [
    "# Đọc file url\n",
    "with open(FILE_URL_PATH, \"r\", encoding='utf-8') as fIn:\n",
    "    url_data = json.load(fIn)\n",
    "\n",
    "len(url_data)"
   ]
  },
  {
   "cell_type": "markdown",
   "metadata": {
    "id": "9n2zjpByQidO"
   },
   "source": [
    "#### Chạy thử nghiệm"
   ]
  },
  {
   "cell_type": "code",
   "execution_count": 86,
   "metadata": {
    "id": "N5dpy8j2QidS"
   },
   "outputs": [],
   "source": [
    "driver = webdriver.Chrome(options=chrome_options)\n",
    "\n",
    "# Một số url để thử nghiệm\n",
    "SAMPLE_ARTICLE_URLS = [\n",
    "    \"https://vnexpress.net/lao-tuyen-bo-quoc-tang-tuong-niem-tong-bi-thu-nguyen-phu-trong-4772895.html\",\n",
    "    \"https://vnexpress.net/ty-le-hoc-sinh-do-tot-nghiep-cao-nhat-10-nam-4772931.html\",\n",
    "    \"https://vnexpress.net/tra-luong-cho-nguoi-gia-4772632.html\",\n",
    "    \"https://vnexpress.net/cuoc-song-do-thi-mien-nam-hon-100-nam-truoc-4772382.html\",\n",
    "    \"https://vnexpress.net/piastri-lan-dau-thang-chang-f1-4772734.html\", # table\n",
    "    \"https://vnexpress.net/10-ung-vien-gianh-qua-bong-vang-2024-4772973.html\", # slideshow,\n",
    "    \"https://vnexpress.net/toi-kho-chiu-khi-nhieu-nguoi-dung-xe-khi-con-ba-giay-den-xanh-4772885.html\", # author,\n",
    "    \"https://vnexpress.net/khong-vo-gao-truoc-khi-nau-co-an-toan-4772624.html\",\n",
    "    \"https://vnexpress.net/do-ban-thay-con-cong-khac-biet-trong-10-giay-4770515.html\",\n",
    "]\n",
    "\n",
    "# chọn url\n",
    "SAMPLE_ARTICLE_URL = SAMPLE_ARTICLE_URLS[0]"
   ]
  },
  {
   "cell_type": "code",
   "execution_count": 87,
   "metadata": {
    "id": "9TzJPGT9QidS"
   },
   "outputs": [],
   "source": [
    "driver.get(SAMPLE_ARTICLE_URL)"
   ]
  },
  {
   "cell_type": "code",
   "execution_count": 88,
   "metadata": {
    "colab": {
     "base_uri": "https://localhost:8080/",
     "height": 36
    },
    "executionInfo": {
     "elapsed": 1009,
     "status": "ok",
     "timestamp": 1722164615401,
     "user": {
      "displayName": "Duc Nguyen Quang",
      "userId": "13435852976191392349"
     },
     "user_tz": -420
    },
    "id": "hTDOejxCQidS",
    "outputId": "2cb60bef-3e5d-48c1-98e6-46e132fc4587"
   },
   "outputs": [
    {
     "data": {
      "text/plain": [
       "'Lào tuyên bố quốc tang tưởng niệm Tổng Bí thư Nguyễn Phú Trọng'"
      ]
     },
     "execution_count": 88,
     "metadata": {},
     "output_type": "execute_result"
    }
   ],
   "source": [
    "# Tìm kiếm title\n",
    "driver.find_element(by=By.CSS_SELECTOR, value=\"h1.title-detail\").text"
   ]
  },
  {
   "cell_type": "code",
   "execution_count": 89,
   "metadata": {
    "colab": {
     "base_uri": "https://localhost:8080/",
     "height": 53
    },
    "executionInfo": {
     "elapsed": 4328,
     "status": "ok",
     "timestamp": 1722164621440,
     "user": {
      "displayName": "Duc Nguyen Quang",
      "userId": "13435852976191392349"
     },
     "user_tz": -420
    },
    "id": "fqnbV9HBQidS",
    "outputId": "a7aa0b8b-bec0-46ee-b4dc-a0eee498f5b3"
   },
   "outputs": [
    {
     "data": {
      "text/plain": [
       "'Chính phủ Lào thông báo sẽ tổ chức quốc tang ngày 25-26/7 để tưởng niệm Tổng Bí thư Nguyễn Phú Trọng.'"
      ]
     },
     "execution_count": 89,
     "metadata": {},
     "output_type": "execute_result"
    }
   ],
   "source": [
    "# Tìm kiếm description\n",
    "driver.find_element(by=By.CLASS_NAME, value=\"description\").text"
   ]
  },
  {
   "cell_type": "code",
   "execution_count": 90,
   "metadata": {
    "colab": {
     "base_uri": "https://localhost:8080/"
    },
    "executionInfo": {
     "elapsed": 470,
     "status": "ok",
     "timestamp": 1722164624429,
     "user": {
      "displayName": "Duc Nguyen Quang",
      "userId": "13435852976191392349"
     },
     "user_tz": -420
    },
    "id": "QtoeSnJHzUj0",
    "outputId": "d7f28462-c155-4cbf-9d06-22e4dc0021f8"
   },
   "outputs": [
    {
     "data": {
      "text/plain": [
       "('Thế giới', None)"
      ]
     },
     "execution_count": 90,
     "metadata": {},
     "output_type": "execute_result"
    }
   ],
   "source": [
    "# Thu thập thể loại\n",
    "lis_cat = driver.find_element(by=By.CSS_SELECTOR, value=\"ul.breadcrumb\").find_elements(by=By.TAG_NAME, value=\"li\")\n",
    "main_cat = lis_cat[0].text if len(lis_cat) > 0 else None\n",
    "sub_cat = lis_cat[1].text if len(lis_cat) > 1 else None\n",
    "main_cat, sub_cat"
   ]
  },
  {
   "cell_type": "code",
   "execution_count": 91,
   "metadata": {
    "colab": {
     "base_uri": "https://localhost:8080/",
     "height": 36
    },
    "executionInfo": {
     "elapsed": 3,
     "status": "ok",
     "timestamp": 1722164624843,
     "user": {
      "displayName": "Duc Nguyen Quang",
      "userId": "13435852976191392349"
     },
     "user_tz": -420
    },
    "id": "9k-qFSefzz-i",
    "outputId": "5d0097e1-1f02-4ae4-d913-28f70cf2f410"
   },
   "outputs": [
    {
     "data": {
      "text/plain": [
       "'2024-07-22T14:50:18+07:00'"
      ]
     },
     "execution_count": 91,
     "metadata": {},
     "output_type": "execute_result"
    }
   ],
   "source": [
    "# Thu thập ngày\n",
    "publish_date = driver.find_element(by=By.CSS_SELECTOR, value='[itemprop=\"datePublished\"]').get_attribute(\"content\").strip()\n",
    "publish_date"
   ]
  },
  {
   "cell_type": "code",
   "execution_count": 92,
   "metadata": {
    "id": "AfOjnr6oQidT"
   },
   "outputs": [],
   "source": [
    "# Tìm kiếm contents\n",
    "article = driver.find_element(by=By.CSS_SELECTOR, value=\"article.fck_detail\")\n",
    "children = article.find_elements(by=By.XPATH, value=\"./*\")"
   ]
  },
  {
   "cell_type": "code",
   "execution_count": 93,
   "metadata": {
    "id": "4loi1nlPQidT"
   },
   "outputs": [],
   "source": [
    "# Thu thập contents và author\n",
    "contents = []\n",
    "author = \"Unknown\"\n",
    "is_slide_show = False\n",
    "\n",
    "for idx, child in enumerate(children):\n",
    "    text = child.text.strip()\n",
    "    # right align\n",
    "    if child.tag_name == \"p\" and (\"right\" in child.get_attribute(\"align\") or \"right\" in child.get_attribute(\"style\")) and idx >= len(children) - 3: # last three, align right --> author\n",
    "        author = text\n",
    "    elif child.tag_name == \"p\" and child.get_attribute(\"class\") == \"Normal\": # paragraph\n",
    "        # If center\n",
    "        if len(text):\n",
    "            if (\"center\" in child.get_attribute(\"align\") or \"center\" in child.get_attribute(\"style\")):\n",
    "                contents.append(f\"[{text}]\")\n",
    "            else:\n",
    "                contents.append(text)\n",
    "    elif child.tag_name == \"figure\" :\n",
    "        ## If length > 100  --> not a caption, it's next description\n",
    "        if len(text):\n",
    "            if len(text) <= 100:\n",
    "                contents.append(f\"[{text}]\")\n",
    "            else:\n",
    "                contents.append(text)\n",
    "    elif child.tag_name == \"div\" and \"item_slide_show\" in child.get_attribute(\"class\"):\n",
    "        is_slide_show = True # slideshow\n",
    "        if len(text):\n",
    "            if len(text) <= 100:\n",
    "                contents.append(f\"[{text}]\")\n",
    "            else:\n",
    "                contents.append(text)\n",
    "\n",
    "    elif child.tag_name == \"table\": # Do nothing rightnow\n",
    "        pass\n",
    "\n",
    "if is_slide_show:\n",
    "    author = text\n",
    "\n",
    "if author == \"Unknown\":\n",
    "    try:\n",
    "        author = driver.find_element(by=By.XPATH, value=\"//*[contains(@class, 'author')]\").text\n",
    "    except:\n",
    "        pass"
   ]
  },
  {
   "cell_type": "code",
   "execution_count": 94,
   "metadata": {
    "colab": {
     "base_uri": "https://localhost:8080/"
    },
    "executionInfo": {
     "elapsed": 400,
     "status": "ok",
     "timestamp": 1722164633952,
     "user": {
      "displayName": "Duc Nguyen Quang",
      "userId": "13435852976191392349"
     },
     "user_tz": -420
    },
    "id": "_kZ5RRwSQidT",
    "outputId": "b5bb42a6-b312-4d7e-acf8-0f912538b270"
   },
   "outputs": [
    {
     "data": {
      "text/plain": [
       "['Trong cuộc họp báo tại Văn phòng Thủ tướng Lào hôm nay, Bộ trưởng, Chủ nhiệm Văn phòng Thủ tướng Lào Bouakhong Nammavong thông báo Đảng và chính phủ Lào nhất trí để tang cấp quốc gia, bao gồm cả đại sứ quán Lào và các cơ quan đại diện ngoại giao ở nước ngoài, trong ngày 25-26/7, treo cờ rủ và dừng các hoạt động vui chơi ở mọi hình thức.',\n",
       " 'Tổng Bí thư, Chủ tịch nước Lào Thongloun Sisoulith sẽ dẫn đầu đoàn lãnh đạo cấp cao tham dự lễ viếng và lễ tang Tổng Bí thư Nguyễn Phú Trọng tại Hà Nội. Chính phủ Lào cũng sẽ phối hợp chuẩn bị cho các đoàn đến viếng, ghi sổ tang và đặt vòng hoa tại trụ sở Đại sứ quán Việt Nam ở thủ đô Vientiane.',\n",
       " '[Tổng Bí thư Nguyễn Phú Trọng. Ảnh: VGP]',\n",
       " 'Bộ Ngoại giao Lào được yêu cầu tổ chức Hội nghị Bộ trưởng Ngoại giao ASEAN lần thứ 57 và các hội nghị liên quan tại Lào ngày 21-27/7 theo cách thức phù hợp nhất và thông báo cho tất cả các phái đoàn tham gia hội nghị biết, đặc biệt là việc tổ chức tiệc và lễ hội.',\n",
       " 'Các lãnh đạo Lào ngày 19/7 đã gửi điện chia buồn, bày tỏ \"lòng tiếc thương vô hạn\" khi hay tin Tổng Bí thư Nguyễn Phú Trọng từ trần. Trong bức điện, lãnh đạo Lào ca ngợi Tổng Bí thư Nguyễn Phú Trọng đã cống hiến hết tâm sức và trí tuệ cho các công tác quan trọng trong sự nghiệp giải phóng dân tộc, thống nhất đất nước và công cuộc đổi mới của Đảng Cộng sản Việt Nam, đưa Việt Nam không ngừng phát triển, vị thế được nâng cao rõ rệt trên trường quốc tế và khu vực.',\n",
       " '[Bộ trưởng, Chủ nhiệm Văn phòng Thủ tướng Lào trong cuộc họp báo tại Vientiane hôm nay. Ảnh: TTXVN]',\n",
       " '\"Đảng, Nhà nước và nhân dân các dân tộc Lào mất đi người đồng chí vô cùng gần gũi, thân thiết. Đồng chí Nguyễn Phú Trọng là lãnh đạo cách mạng trong thời đại mới, là người kế tục sự nghiệp của Chủ tịch Hồ Chí Minh, góp phần to lớn, quý báu và quan trọng trong việc tăng cường, vun đắp mối quan hệ hữu nghị vĩ đại, đoàn kết đặc biệt và hợp tác toàn diện giữa hai Đảng, hai nhà nước và nhân dân hai nước Lào - Việt Nam, Việt Nam - Lào trong suốt thời gian qua\", bức điện có đoạn.',\n",
       " 'Tổng Bí thư Nguyễn Phú Trọng từ trần ngày 19/7 do tuổi cao bệnh nặng, hưởng thọ 80 tuổi. Tang lễ sẽ được tổ chức trọng thể theo nghi thức quốc tang ngày 25-26/7, sau đó ông được an táng tại Nghĩa trang Mai Dịch.',\n",
       " '[Sổ tang Tổng Bí thư Nguyễn Phú Trọng]']"
      ]
     },
     "execution_count": 94,
     "metadata": {},
     "output_type": "execute_result"
    }
   ],
   "source": [
    "contents"
   ]
  },
  {
   "cell_type": "code",
   "execution_count": 95,
   "metadata": {
    "colab": {
     "base_uri": "https://localhost:8080/",
     "height": 36
    },
    "executionInfo": {
     "elapsed": 651,
     "status": "ok",
     "timestamp": 1722161309518,
     "user": {
      "displayName": "Duc Nguyen Quang",
      "userId": "13435852976191392349"
     },
     "user_tz": -420
    },
    "id": "906m4iM3QidT",
    "outputId": "9095ffb0-133a-4fd1-f199-787402f6e6ab"
   },
   "outputs": [
    {
     "data": {
      "text/plain": [
       "'Vũ Anh (Theo TTXVN)'"
      ]
     },
     "execution_count": 95,
     "metadata": {},
     "output_type": "execute_result"
    }
   ],
   "source": [
    "author"
   ]
  },
  {
   "cell_type": "code",
   "execution_count": 96,
   "metadata": {
    "id": "wHvyN16_QidU"
   },
   "outputs": [],
   "source": [
    "driver.close()"
   ]
  },
  {
   "cell_type": "markdown",
   "metadata": {
    "id": "Eq9o2-7s_bW0"
   },
   "source": [
    "#### Chạy thật\n"
   ]
  },
  {
   "cell_type": "code",
   "execution_count": 102,
   "metadata": {
    "id": "3HEQBevIQidN"
   },
   "outputs": [],
   "source": [
    "def get_content_metadata(driver, article_url):\n",
    "\n",
    "    \"\"\"\n",
    "    Extracts and returns metadata and content from a given article URL.\n",
    "\n",
    "    :param driver: Selenium WebDriver instance.\n",
    "    :param article_url: URL of the article to extract data from.\n",
    "    :return: Dictionary containing article metadata and content.\n",
    "    \"\"\"\n",
    "\n",
    "    # Get to current article\n",
    "    driver.get(article_url)\n",
    "\n",
    "    # Thu thập title\n",
    "    title = driver.find_element(by=By.CSS_SELECTOR, value=\"h1.title-detail\").text.strip()\n",
    "\n",
    "    # Thu thập description\n",
    "    description = driver.find_element(by=By.CLASS_NAME, value=\"description\").text.strip()\n",
    "\n",
    "    # Thu thập thể loại\n",
    "    lis_cat = driver.find_element(by=By.CSS_SELECTOR, value=\"ul.breadcrumb\").find_elements(by=By.TAG_NAME, value=\"li\")\n",
    "    main_cat = lis_cat[0].text if len(lis_cat) > 0 else None\n",
    "    sub_cat = lis_cat[1].text if len(lis_cat) > 1 else None\n",
    "\n",
    "    # Thu thập published date\n",
    "    publish_date = driver.find_element(by=By.CSS_SELECTOR, value='[itemprop=\"datePublished\"]').get_attribute(\"content\").strip()\n",
    "\n",
    "    # Thu thập content bài báo\n",
    "    # Locate phần viết content\n",
    "    article = driver.find_element(by=By.CSS_SELECTOR, value=\"article.fck_detail\")\n",
    "    # Lấy hết các đầu mục con của bài báo\n",
    "    children = article.find_elements(by=By.XPATH, value=\"./*\")\n",
    "\n",
    "    contents = []\n",
    "    author = \"Unknown\"\n",
    "\n",
    "    # Check có phải dạng slide show hay không\n",
    "    is_slide_show = False\n",
    "    for idx, child in enumerate(children):\n",
    "        text = child.text.strip()\n",
    "        # Nếu mà element right align --> có thể là tác giả\n",
    "        if child.tag_name == \"p\" and (\"right\" in child.get_attribute(\"align\") or \"right\" in child.get_attribute(\"style\")) and idx >= len(children) - 3: # last three, align right --> author\n",
    "            author = text\n",
    "        elif child.tag_name == \"p\" and child.get_attribute(\"class\") == \"Normal\": # paragraph\n",
    "            # If center\n",
    "            if len(text):\n",
    "                if (\"center\" in child.get_attribute(\"align\") or \"center\" in child.get_attribute(\"style\")):\n",
    "                    contents.append(f\"[{text}]\")\n",
    "                else:\n",
    "                    contents.append(text)\n",
    "\n",
    "        # Chỉ lấy caption của figure\n",
    "        elif child.tag_name == \"figure\" :\n",
    "            ## If length > 100  --> not a caption, it's next description\n",
    "            if len(text):\n",
    "                if len(text) <= 100: # nếu mà len <= 100 --> add thêm [] xung quanh\n",
    "                    contents.append(f\"[{text}]\")\n",
    "                else:\n",
    "                    contents.append(text)\n",
    "\n",
    "        # Nếu mà là slide show thì nó giống figure\n",
    "        elif child.tag_name == \"div\" and \"item_slide_show\" in child.get_attribute(\"class\"):\n",
    "            is_slide_show = True # slideshow\n",
    "            if len(text):\n",
    "                if len(text) <= 100:\n",
    "                    contents.append(f\"[{text}]\")\n",
    "                else:\n",
    "                    contents.append(text)\n",
    "\n",
    "        # Bỏ qua table bây giờ\n",
    "        elif child.tag_name == \"table\": # Do nothing rightnow\n",
    "            pass\n",
    "\n",
    "    if is_slide_show:\n",
    "        author = text\n",
    "\n",
    "    # Nếu mà vẫn chưa thấy author thì tìm bằng tag\n",
    "    if author == \"Unknown\":\n",
    "        try:\n",
    "            author = driver.find_element(by=By.XPATH, value=\"//*[contains(@class, 'author')]\").text\n",
    "        except:\n",
    "            pass\n",
    "\n",
    "    return {\n",
    "        \"url\": article_url,\n",
    "        \"title\": title,\n",
    "        \"description\": description,\n",
    "        \"content\": \"\\n\".join(contents), # join các đoạn bằng \\n\n",
    "        \"metadata\": {\n",
    "            \"cat\": main_cat,\n",
    "            \"subcat\": sub_cat,\n",
    "            \"published_date\": publish_date,\n",
    "            \"author\": author\n",
    "        }\n",
    "    }\n"
   ]
  },
  {
   "cell_type": "code",
   "execution_count": 140,
   "metadata": {
    "colab": {
     "base_uri": "https://localhost:8080/"
    },
    "executionInfo": {
     "elapsed": 297807,
     "status": "ok",
     "timestamp": 1722164956030,
     "user": {
      "displayName": "Duc Nguyen Quang",
      "userId": "13435852976191392349"
     },
     "user_tz": -420
    },
    "id": "Z-mDMiwEQidO",
    "outputId": "12767b71-46d4-434f-80ca-5c2e6bb7e33d"
   },
   "outputs": [
    {
     "name": "stdout",
     "output_type": "stream",
     "text": [
      "Thu thập dữ liệu thể loại Thời sự ..\n",
      "Thu thập dữ liệu thể loại Thế giới ..\n",
      "Thu thập dữ liệu thể loại Kinh doanh ..\n",
      "Thu thập dữ liệu thể loại Khoa học công nghệ ..\n",
      "Thu thập dữ liệu thể loại Giải trí ..\n",
      "Thu thập dữ liệu thể loại Pháp luật ..\n",
      "Thu thập dữ liệu thể loại Bất động sản ..\n",
      "Bug at url: https://vnexpress.net/bat-dong-san/du-an/detail/vinhomes-wonder-park-dan-phuong-547, with ElementException\n",
      "Thu thập dữ liệu thể loại Sức khỏe ..\n",
      "Thu thập dữ liệu thể loại Thể thao ..\n",
      "Bug at url: https://vnexpress.net/haaland-qua-mat-cantona-rooney-o-derby-manchester-4939067.html, with ElementException\n",
      "Thu thập dữ liệu thể loại Giáo dục ..\n",
      "Thu thập dữ liệu thể loại Đời sống ..\n",
      "Thu thập dữ liệu thể loại Xe ..\n",
      "Bug at url: https://vnexpress.net/oto-xe-may/v-car/doanh-so/10-oto-ban-nhieu-nhat-thi-truong-viet-nam-thang-8-4939203.html, with ElementException\n",
      "Thu thập dữ liệu thể loại Du lịch ..\n",
      "Bug at url: https://vnexpress.net/du-lich-viet-tu-so-0-den-top-3-khu-vuc-4932801.html, with ElementException\n"
     ]
    }
   ],
   "source": [
    "driver = webdriver.Chrome(options=chrome_options)\n",
    "\n",
    "for cat, urls in url_data.items():\n",
    "\n",
    "    print(f\"Thu thập dữ liệu thể loại {cat} ..\")\n",
    "    count_crawled = 0\n",
    "    cat_data = []\n",
    "    for url in urls:\n",
    "        try:\n",
    "            cat_data.append(get_content_metadata(driver, url))\n",
    "            count_crawled += 1\n",
    "            if MAX_ARTICLES_PER_CAT and count_crawled >= MAX_ARTICLES_PER_CAT:\n",
    "                break\n",
    "\n",
    "        except (StaleElementReferenceException, NoSuchElementException) as e:\n",
    "            print(f\"Bug at url: {url}, with ElementException\")\n",
    "            driver.refresh()\n",
    "            # Chúng ta tạm bỏ lỗi bây giờ\n",
    "            continue\n",
    "\n",
    "    name_file_cat = cat.lower().replace(\" \", \"-\") + \".json\"\n",
    "\n",
    "    with open(os.path.join(DATA_FOLDER_OUTPUT, name_file_cat), \"w\", encoding='utf-8') as fOut:\n",
    "        json.dump(cat_data, fOut, ensure_ascii=False, indent=4)\n",
    "\n",
    "driver.close()"
   ]
  },
  {
   "cell_type": "code",
   "execution_count": 132,
   "metadata": {},
   "outputs": [
    {
     "name": "stdout",
     "output_type": "stream",
     "text": [
      "Thời sự - 55\n",
      "Thế giới - 53\n",
      "Kinh doanh - 60\n",
      "Khoa học công nghệ - 55\n",
      "Giải trí - 48\n",
      "Pháp luật - 47\n",
      "Bất động sản - 44\n",
      "Sức khỏe - 53\n",
      "Thể thao - 45\n",
      "Giáo dục - 59\n",
      "Đời sống - 42\n",
      "Xe - 31\n",
      "Du lịch - 60\n"
     ]
    }
   ],
   "source": [
    "for key in url_data.keys():\n",
    "    print(f'{key} - {len(url_data[key])}')"
   ]
  },
  {
   "cell_type": "code",
   "execution_count": 138,
   "metadata": {
    "colab": {
     "base_uri": "https://localhost:8080/"
    },
    "executionInfo": {
     "elapsed": 425,
     "status": "ok",
     "timestamp": 1722164965772,
     "user": {
      "displayName": "Duc Nguyen Quang",
      "userId": "13435852976191392349"
     },
     "user_tz": -420
    },
    "id": "ckXExoKxyUGX",
    "outputId": "f29fbf83-3d5b-4f17-a3c3-57f703310b00"
   },
   "outputs": [
    {
     "data": {
      "text/plain": [
       "{'url': 'https://vnexpress.net/singapore-lam-moi-trai-nghiem-du-lich-mice-bang-du-thuyen-5-sao-4935202.html',\n",
       " 'title': 'Singapore làm mới trải nghiệm du lịch MICE bằng du thuyền 5 sao',\n",
       " 'description': 'Du thuyền tích hợp phòng hội nghị với không gian team building, thể thao mạo hiểm, giúp làm mới các hoạt động MICE (hội họp kết hợp nghỉ dưỡng) tại Singapore.',\n",
       " 'content': '',\n",
       " 'metadata': {'cat': 'Du lịch',\n",
       "  'subcat': 'Điểm đến',\n",
       "  'published_date': '2025-09-11T10:00:00+07:00',\n",
       "  'author': 'Unknown'}}"
      ]
     },
     "execution_count": 138,
     "metadata": {},
     "output_type": "execute_result"
    }
   ],
   "source": [
    "# Xem 1 sample\n",
    "cat_data[0]"
   ]
  },
  {
   "cell_type": "markdown",
   "metadata": {
    "id": "fJJ0nyIrBfVl"
   },
   "source": [
    "## Lưu dữ liệu\n",
    "\n",
    "Nếu bạn chạy ở máy cá nhân thì không cần, nhưng nếu mà chạy ở Colab thì nên lưu dữ liệu vào trong Google Drive\n"
   ]
  },
  {
   "cell_type": "code",
   "execution_count": null,
   "metadata": {
    "colab": {
     "base_uri": "https://localhost:8080/"
    },
    "executionInfo": {
     "elapsed": 19396,
     "status": "ok",
     "timestamp": 1722164996735,
     "user": {
      "displayName": "Duc Nguyen Quang",
      "userId": "13435852976191392349"
     },
     "user_tz": -420
    },
    "id": "BaOtPsXgBvlh",
    "outputId": "0602b0e6-57a7-4d18-df48-baaf4f111ad4"
   },
   "outputs": [
    {
     "name": "stdout",
     "output_type": "stream",
     "text": [
      "Mounted at /content/drive\n"
     ]
    }
   ],
   "source": [
    "# For Google Colab\n",
    "from google.colab import drive\n",
    "drive.mount('/content/drive')"
   ]
  },
  {
   "cell_type": "code",
   "execution_count": null,
   "metadata": {
    "id": "kg7zi2KICBn8"
   },
   "outputs": [],
   "source": [
    "# Set to your folder\n",
    "FOLDER_SAVED_GOOGLE_COLAB = \"/content/drive/MyDrive/crawl-news/\"\n",
    "\n",
    "# Copy\n",
    "!cp -r data $FOLDER_SAVED_GOOGLE_COLAB"
   ]
  }
 ],
 "metadata": {
  "colab": {
   "provenance": []
  },
  "kernelspec": {
   "display_name": "Python 3",
   "language": "python",
   "name": "python3"
  },
  "language_info": {
   "codemirror_mode": {
    "name": "ipython",
    "version": 3
   },
   "file_extension": ".py",
   "mimetype": "text/x-python",
   "name": "python",
   "nbconvert_exporter": "python",
   "pygments_lexer": "ipython3",
   "version": "3.11.9"
  }
 },
 "nbformat": 4,
 "nbformat_minor": 0
}
