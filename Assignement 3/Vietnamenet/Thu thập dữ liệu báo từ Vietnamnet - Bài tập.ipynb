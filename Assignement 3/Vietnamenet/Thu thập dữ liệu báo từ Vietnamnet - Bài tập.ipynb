{
 "cells": [
  {
   "cell_type": "markdown",
   "metadata": {
    "id": "ttHUknFTIGjB"
   },
   "source": [
    "# Bài toán\n",
    "\n",
    "> **Thu thập dữ liệu báo Việt Nam (Vietnamnet - Bài tập)**\n",
    "\n",
    "\n",
    "> Hoàn thành bằng cách điền vào phần #### CODE theo hướng dẫn\n",
    "\n",
    "    ```\n",
    "    #### CODE\n",
    "    ####\n",
    "    ```\n",
    "\n",
    "\n",
    "Cũng giống như VNExpress - Demo\n",
    "\n",
    "Mục tiêu:\n",
    "\n",
    "- Hiểu được quy trình thu thập dữ liệu từ các trang báo Việt Nam\n",
    "- Thu thập dữ liệu (bài báo) từ các trang báo Việt Nam để làm dữ liệu cho các bước xử lý sau\n",
    "\n",
    "Đầu ra:\n",
    "\n",
    "-  Tập file JSON chứa các bài bài báo có các trường dữ liệu:\n",
    "\n",
    "    - `url`: link dẫn đến bài báo\n",
    "    - `title`: tiêu đề bài báo\n",
    "    - `description`: tóm tắt bài báo\n",
    "    - `content`: nội dung bài báo\n",
    "    - `metadata`: trường dữ liệu bổ sung\n",
    "\n",
    "        - `cat`: thể loại bài báo\n",
    "        - `subcat`: thể loại con của bài báo\n",
    "        - `published_date`: thời gian xuất bản\n",
    "        - `author`: người viết\n",
    "    \n",
    "- Ví dụ về một bài báo:\n",
    "\n",
    "    ```\n",
    "     {\n",
    "        \"url\": \"https://vietnamnet.vn/khi-gap-van-xui-hay-nhin-3-...\",\n",
    "        \"title\": \"Khi gặp vận xui, hãy nhìn 3 bức ảnh này sẽ thấy cuộc đời ...\",\n",
    "        \"description\": \"Cuộc đời như thế nào tùy thuộc vào góc nhìn của từng ...\",\n",
    "        \"content\": \"Bức tranh 1: Có 3 hay 4 khúc gỗ?\\nCâu trả lời là 3 hoặc 4 khúc gỗ ...\",\n",
    "        \"metadata\": {\n",
    "            \"cat\": \"ĐỜI SỐNG\",\n",
    "            \"subcat\": \"GIỚI TRẺ\",\n",
    "            \"published_date\": 1721274540,\n",
    "            \"author\": \"Phan Hằng\"\n",
    "        },\n",
    "    },\n",
    "    ```\n"
   ]
  },
  {
   "cell_type": "markdown",
   "metadata": {
    "id": "Uz3e5P55H7D5"
   },
   "source": [
    "# Các bước tiến hành"
   ]
  },
  {
   "cell_type": "markdown",
   "metadata": {
    "id": "WdXVtu4NH7D7"
   },
   "source": [
    "## Chuẩn bị các thư viện cần thiết"
   ]
  },
  {
   "cell_type": "code",
   "execution_count": null,
   "metadata": {
    "id": "zvVdPKnHQ9FN"
   },
   "outputs": [],
   "source": [
    "# Suitable for Google Colab, for local please follow the external instructions and ignore this line\n",
    "# and follows https://docs.google.com/document/d/14jK9d6KHJYX0b-gFAVqAghUxT7OLAM0nP2IovL7_Rjs/edit?usp=sharing\n",
    "!apt install -qq chromium-chromedriver"
   ]
  },
  {
   "cell_type": "code",
   "execution_count": 1,
   "metadata": {
    "id": "_j2AouMEQ-m9"
   },
   "outputs": [],
   "source": [
    "# Install selenium\n",
    "!pip install -qq selenium\n",
    "\n",
    "# Tạo thư mục để chứa data\n",
    "!mkdir -p data"
   ]
  },
  {
   "cell_type": "code",
   "execution_count": 2,
   "metadata": {
    "id": "6FThN2-ERBCN"
   },
   "outputs": [],
   "source": [
    "# selenium import\n",
    "from selenium import webdriver\n",
    "from selenium.webdriver.chrome.service import Service\n",
    "from selenium.webdriver.common.by import By\n",
    "from selenium.common.exceptions import StaleElementReferenceException, NoSuchElementException\n",
    "\n",
    "# other imports\n",
    "import os\n",
    "import json"
   ]
  },
  {
   "cell_type": "code",
   "execution_count": 3,
   "metadata": {
    "id": "GCtR5oKmH7D7"
   },
   "outputs": [],
   "source": [
    "# selenium setups\n",
    "## https://www.tutorialspoint.com/selenium/selenium_webdriver_chrome_webdriver_options.htm\n",
    "\n",
    "chrome_options = webdriver.ChromeOptions()\n",
    "\n",
    "# chrome_options.add_argument('--headless') # must options for Google Colab\n",
    "chrome_options.add_argument('--no-sandbox')\n",
    "chrome_options.add_argument('--disable-dev-shm-usage')\n",
    "chrome_options.add_argument(\"--disable-extensions\")\n",
    "chrome_options.add_argument(\"--disable-gpu\")\n"
   ]
  },
  {
   "cell_type": "code",
   "execution_count": 4,
   "metadata": {
    "id": "zwuvaaCPH7D8"
   },
   "outputs": [],
   "source": [
    "MAGAZINE_NAME = \"vietnamnet\"\n",
    "HOME_PAGE = \"https://vietnamnet.vn/\""
   ]
  },
  {
   "cell_type": "markdown",
   "metadata": {
    "id": "3gef7QlwH7D9"
   },
   "source": [
    "## Thu thập dữ liệu\n",
    "\n",
    "> **Các bước thu thập bài báo**\n",
    "\n",
    "\n",
    "1. News categories: Thu thập tất cả các thể loại báo của website\n",
    "2. News urls: Thu thập một số đường dẫn dựa vài từng thể loại báo của website đó\n",
    "3. News articles: Thu thập và xử lý từng bài báo dựa vào đường dẫn của bước trước"
   ]
  },
  {
   "cell_type": "markdown",
   "metadata": {
    "id": "r7sLCnY2H7D9"
   },
   "source": [
    "### Thu thập thể loại bài báo của website: Crawling categories\n",
    "\n",
    "> **Các bước thu thập**\n",
    "\n",
    "1. Vào trang chủ của báo\n",
    "2. Thu thập các thể loại ở mục menu\n"
   ]
  },
  {
   "cell_type": "code",
   "execution_count": 9,
   "metadata": {
    "id": "hoZd2lNEH7D9"
   },
   "outputs": [],
   "source": [
    "driver = webdriver.Chrome(options=chrome_options)\n",
    "# Vào trang web chính, mặc định phải chờ toàn bộ trang webload mới xong\n",
    "driver.get(HOME_PAGE)"
   ]
  },
  {
   "cell_type": "code",
   "execution_count": 13,
   "metadata": {
    "id": "caj14hiSH7D-"
   },
   "outputs": [],
   "source": [
    "# Chọn and click menu buttons\n",
    "\n",
    "#### CODE\n",
    "menu_button = driver.find_element(by=By.CLASS_NAME, value='icon-hamburger')\n",
    "\n",
    "####\n",
    "menu_button.click()"
   ]
  },
  {
   "cell_type": "code",
   "execution_count": 19,
   "metadata": {
    "id": "zCfvJHdhH7D-"
   },
   "outputs": [],
   "source": [
    "# Lấy hết tất cả thể loại từ đây\n",
    "# bỏ qua logo-premium, logo-htvn\n",
    "\n",
    "#### CODE\n",
    "cats = []\n",
    "\n",
    "header_menu_list = driver.find_element(by=By.CLASS_NAME, value='header_submenu-content-list')\n",
    "cat_menus = header_menu_list.find_elements(by=By.CSS_SELECTOR, value='li[data-i]')\n",
    "\n",
    "for cat_menu in cat_menus:\n",
    "    cat = cat_menu.find_element(by=By.TAG_NAME, value='a').get_attribute('title').strip()\n",
    "    href = cat_menu.find_element(by=By.TAG_NAME, value='a').get_attribute('href').strip()\n",
    "    \n",
    "    cats.append({'cat_name': cat, 'url': href})\n",
    "####"
   ]
  },
  {
   "cell_type": "code",
   "execution_count": 21,
   "metadata": {},
   "outputs": [
    {
     "data": {
      "text/plain": [
       "([{'cat_name': 'Chính trị', 'url': 'https://vietnamnet.vn/chinh-tri'},\n",
       "  {'cat_name': 'Thời sự', 'url': 'https://vietnamnet.vn/thoi-su'},\n",
       "  {'cat_name': 'Kinh doanh', 'url': 'https://vietnamnet.vn/kinh-doanh'},\n",
       "  {'cat_name': 'Dân tộc và Tôn giáo',\n",
       "   'url': 'https://vietnamnet.vn/dan-toc-ton-giao'},\n",
       "  {'cat_name': 'Thể thao', 'url': 'https://vietnamnet.vn/the-thao'},\n",
       "  {'cat_name': 'Giáo dục', 'url': 'https://vietnamnet.vn/giao-duc'},\n",
       "  {'cat_name': 'Thế giới', 'url': 'https://vietnamnet.vn/the-gioi'},\n",
       "  {'cat_name': 'Đời sống', 'url': 'https://vietnamnet.vn/doi-song'},\n",
       "  {'cat_name': 'Văn hóa - Giải trí',\n",
       "   'url': 'https://vietnamnet.vn/van-hoa-giai-tri'},\n",
       "  {'cat_name': 'Sức khỏe', 'url': 'https://vietnamnet.vn/suc-khoe'},\n",
       "  {'cat_name': 'Công nghệ', 'url': 'https://vietnamnet.vn/cong-nghe'},\n",
       "  {'cat_name': 'Pháp luật', 'url': 'https://vietnamnet.vn/phap-luat'},\n",
       "  {'cat_name': 'Ô tô xe máy', 'url': 'https://vietnamnet.vn/oto-xe-may'},\n",
       "  {'cat_name': 'Du lịch', 'url': 'https://vietnamnet.vn/du-lich'},\n",
       "  {'cat_name': 'Bất động sản', 'url': 'https://vietnamnet.vn/bat-dong-san'},\n",
       "  {'cat_name': 'Bạn đọc', 'url': 'https://vietnamnet.vn/ban-doc'},\n",
       "  {'cat_name': 'Tuần Việt Nam', 'url': 'https://vietnamnet.vn/tuan-viet-nam'},\n",
       "  {'cat_name': 'Toàn văn',\n",
       "   'url': 'https://vietnamnet.vn/dai-hoi-dang-lan-thu-xiii/nhan-su-toan-van.html'},\n",
       "  {'cat_name': 'Công nghiệp hỗ trợ',\n",
       "   'url': 'https://vietnamnet.vn/hop-tac/cong-nghiep-ho-tro'},\n",
       "  {'cat_name': 'Bảo vệ người tiêu dùng',\n",
       "   'url': 'https://vietnamnet.vn/bao-ve-nguoi-tieu-dung'},\n",
       "  {'cat_name': 'Thị trường tiêu dùng',\n",
       "   'url': 'https://vietnamnet.vn/thi-truong-tieu-dung'},\n",
       "  {'cat_name': 'Giảm nghèo bền vững',\n",
       "   'url': 'https://giamngheobenvung.vietnamnet.vn/'},\n",
       "  {'cat_name': 'Nông thôn mới', 'url': 'https://vietnamnet.vn/nong-thon-moi'},\n",
       "  {'cat_name': 'Dân tộc thiểu số và miền núi',\n",
       "   'url': 'https://vietnamnet.vn/dan-toc-thieu-so-va-mien-nui'},\n",
       "  {'cat_name': 'Nội dung chuyên đề',\n",
       "   'url': 'https://vietnamnet.vn/noi-dung-chuyen-de'},\n",
       "  {'cat_name': 'English', 'url': 'https://vietnamnet.vn/en'}],\n",
       " 26)"
      ]
     },
     "execution_count": 21,
     "metadata": {},
     "output_type": "execute_result"
    }
   ],
   "source": [
    "cats, len(cat_menus)"
   ]
  },
  {
   "cell_type": "code",
   "execution_count": 22,
   "metadata": {
    "id": "Tn9hZmxOH7EA"
   },
   "outputs": [],
   "source": [
    "driver.close()"
   ]
  },
  {
   "cell_type": "markdown",
   "metadata": {
    "id": "c-hSyQ8qH7EA"
   },
   "source": [
    "### Thu thập một số đường dẫn dựa vài từng thể loại báo của website đó: News urls\n",
    "\n",
    "\n",
    "> **Cách thu thập**\n",
    "\n",
    "Từ những thể loại và đường link tương ứng, ta lần lượt vào từng thể loại và lấy đường dẫn của các bài báo trong mục đó của trang web đó.\n",
    "\n"
   ]
  },
  {
   "cell_type": "markdown",
   "metadata": {
    "id": "W5rhZD_YSVqf"
   },
   "source": [
    "#### Cài đặt thông số"
   ]
  },
  {
   "cell_type": "code",
   "execution_count": 23,
   "metadata": {
    "id": "hTfYcPKsH7EA"
   },
   "outputs": [],
   "source": [
    "# Đặt số lượng đường dẫn cần lấy trong mỗi thể loại báo\n",
    "NUM_ARTICLES_PER_CAT = 30 # có thể tăng lên\n",
    "\n",
    "# Đường dẫn lưu data của vnexpress\n",
    "DATA_URL_FILE = \"data/vietnamnet_url.json\"\n",
    "\n",
    "EXCLUDING_CATEGORIES = [\"Giảm nghèo bền vững\", \"English\", \"Toàn văn\"] # Exclude\n",
    "\n",
    "# Bổ sung cài đặt chromedriver\n",
    "## Ta đặt load stategy ở đây là normal: https://www.selenium.dev/documentation/webdriver/drivers/options/\n",
    "chrome_options.page_load_strategy = \"normal\""
   ]
  },
  {
   "cell_type": "markdown",
   "metadata": {
    "id": "Mb9Z1ff1S5gW"
   },
   "source": [
    "#### Chạy thử nghiệm\n",
    "\n"
   ]
  },
  {
   "cell_type": "code",
   "execution_count": 98,
   "metadata": {
    "id": "IMsPluFHTDJ0"
   },
   "outputs": [],
   "source": [
    "driver = webdriver.Chrome(options=chrome_options)"
   ]
  },
  {
   "cell_type": "code",
   "execution_count": 99,
   "metadata": {
    "id": "fdqCM6bMH7EC"
   },
   "outputs": [],
   "source": [
    "# Vào thử một url\n",
    "driver.get(cats[0]['url'])"
   ]
  },
  {
   "cell_type": "code",
   "execution_count": 40,
   "metadata": {
    "id": "-t9M01PIH7EC"
   },
   "outputs": [],
   "source": [
    "# Get all titles item\n",
    "\n",
    "#### CODE\n",
    "title_news = driver.find_elements(by=By.CSS_SELECTOR, value='[class*=\"topStory-\"]')\n",
    "####"
   ]
  },
  {
   "cell_type": "code",
   "execution_count": 51,
   "metadata": {
    "colab": {
     "base_uri": "https://localhost:8080/",
     "height": 36
    },
    "executionInfo": {
     "elapsed": 12,
     "status": "ok",
     "timestamp": 1722169768797,
     "user": {
      "displayName": "Duc Nguyen Quang",
      "userId": "13435852976191392349"
     },
     "user_tz": -420
    },
    "id": "_za69KpdH7EC",
    "outputId": "4eff9101-3c5d-4aad-e5a5-52ae269ae381"
   },
   "outputs": [
    {
     "data": {
      "text/plain": [
       "'https://vietnamnet.vn/tong-bi-thu-goi-y-mo-hinh-chong-co-don-cho-nguoi-gia-sang-don-di-chieu-dua-ve-2443036.html'"
      ]
     },
     "execution_count": 51,
     "metadata": {},
     "output_type": "execute_result"
    }
   ],
   "source": [
    "# Lấy đường dẫn\n",
    "\n",
    "#### CODE\n",
    "url_new = title_news[0].find_element(by=By.TAG_NAME, value='a').get_attribute('href')\n",
    "url_new\n",
    "####"
   ]
  },
  {
   "cell_type": "code",
   "execution_count": 52,
   "metadata": {},
   "outputs": [
    {
     "data": {
      "text/plain": [
       "['https://vietnamnet.vn/tong-bi-thu-goi-y-mo-hinh-chong-co-don-cho-nguoi-gia-sang-don-di-chieu-dua-ve-2443036.html',\n",
       " 'https://vietnamnet.vn/chinh-tri/su-kien',\n",
       " 'https://vietnamnet.vn/tong-bi-thu-goi-y-mo-hinh-chong-co-don-cho-nguoi-gia-sang-don-di-chieu-dua-ve-2443036.html',\n",
       " 'https://vietnamnet.vn/tong-bi-thu-goi-y-mo-hinh-chong-co-don-cho-nguoi-gia-sang-don-di-chieu-dua-ve-2443036.html#comment',\n",
       " 'https://vietnamnet.vn/ong-nguyen-thanh-nghi-gia-dien-minh-bach-tang-quyen-lua-chon-noi-cung-cap-2442999.html',\n",
       " 'https://vietnamnet.vn/chinh-tri/su-kien',\n",
       " 'https://vietnamnet.vn/ong-nguyen-thanh-nghi-gia-dien-minh-bach-tang-quyen-lua-chon-noi-cung-cap-2442999.html',\n",
       " 'https://vietnamnet.vn/ong-nguyen-thanh-nghi-gia-dien-minh-bach-tang-quyen-lua-chon-noi-cung-cap-2442999.html#comment',\n",
       " 'https://vietnamnet.vn/tong-bi-thu-va-chuyen-chong-co-don-cho-nguoi-cao-tuoi-sang-don-di-chieu-dua-ve-2443265.html',\n",
       " 'https://vietnamnet.vn/chinh-tri/ban-luan',\n",
       " 'https://vietnamnet.vn/tong-bi-thu-va-chuyen-chong-co-don-cho-nguoi-cao-tuoi-sang-don-di-chieu-dua-ve-2443265.html',\n",
       " 'https://vietnamnet.vn/tranh-luan-chuyen-chuyen-doi-san-bay-tan-son-nhat-long-thanh-2443156.html',\n",
       " 'https://vietnamnet.vn/chinh-tri/ban-luan',\n",
       " 'https://vietnamnet.vn/tranh-luan-chuyen-chuyen-doi-san-bay-tan-son-nhat-long-thanh-2443156.html',\n",
       " 'https://vietnamnet.vn/chuyen-doi-san-bay-long-thanh-hy-sinh-loi-ich-quoc-noi-vi-van-hoi-quoc-gia-2435081.html',\n",
       " 'https://vietnamnet.vn/chinh-tri/ban-luan',\n",
       " 'https://vietnamnet.vn/chuyen-doi-san-bay-long-thanh-hy-sinh-loi-ich-quoc-noi-vi-van-hoi-quoc-gia-2435081.html',\n",
       " 'https://vietnamnet.vn/chuyen-doi-san-bay-long-thanh-hy-sinh-loi-ich-quoc-noi-vi-van-hoi-quoc-gia-2435081.html#comment',\n",
       " 'https://vietnamnet.vn/boc-kin-may-bay-thao-to-hop-ten-lua-van-chuyen-roi-trung-tam-trien-lam-quoc-gia-2443106.html',\n",
       " 'https://vietnamnet.vn/chinh-tri',\n",
       " 'https://vietnamnet.vn/boc-kin-may-bay-thao-to-hop-ten-lua-van-chuyen-roi-trung-tam-trien-lam-quoc-gia-2443106.html',\n",
       " 'https://vietnamnet.vn/ong-nguyen-khac-toan-lam-chu-tich-ubnd-tinh-khanh-hoa-2440575.html',\n",
       " 'https://vietnamnet.vn/chinh-tri',\n",
       " 'https://vietnamnet.vn/ong-nguyen-khac-toan-lam-chu-tich-ubnd-tinh-khanh-hoa-2440575.html',\n",
       " 'https://vietnamnet.vn/mien-vien-phi-quy-bhyt-thanh-toan-140-000-ty-benh-nhan-tu-tra-hon-21-000-ty-2442916.html',\n",
       " 'https://vietnamnet.vn/chinh-tri',\n",
       " 'https://vietnamnet.vn/mien-vien-phi-quy-bhyt-thanh-toan-140-000-ty-benh-nhan-tu-tra-hon-21-000-ty-2442916.html',\n",
       " 'https://vietnamnet.vn/chu-tich-nuoc-va-phu-nhan-sap-co-chuyen-cong-tac-toi-my-2443150.html',\n",
       " 'https://vietnamnet.vn/chinh-tri/doi-ngoai',\n",
       " 'https://vietnamnet.vn/chu-tich-nuoc-va-phu-nhan-sap-co-chuyen-cong-tac-toi-my-2443150.html',\n",
       " 'https://vietnamnet.vn/chinh-phu-thong-nhat-thong-qua-du-an-luat-vien-chuc-sua-doi-2443250.html',\n",
       " 'https://vietnamnet.vn/chinh-tri',\n",
       " 'https://vietnamnet.vn/chinh-phu-thong-nhat-thong-qua-du-an-luat-vien-chuc-sua-doi-2443250.html',\n",
       " 'https://vietnamnet.vn/tong-bi-thu-va-chu-tich-nuoc-tiep-tro-ly-tong-thong-nga-2443219.html',\n",
       " 'https://vietnamnet.vn/chinh-tri/doi-ngoai',\n",
       " 'https://vietnamnet.vn/tong-bi-thu-va-chu-tich-nuoc-tiep-tro-ly-tong-thong-nga-2443219.html',\n",
       " 'https://vietnamnet.vn/tong-bi-thu-to-lam-goi-mo-4-dinh-huong-trong-tam-trong-cong-tac-khuyen-hoc-2443215.html',\n",
       " 'https://vietnamnet.vn/chinh-tri',\n",
       " 'https://vietnamnet.vn/tong-bi-thu-to-lam-goi-mo-4-dinh-huong-trong-tam-trong-cong-tac-khuyen-hoc-2443215.html',\n",
       " 'https://vietnamnet.vn/chu-tich-quoc-hoi-va-phu-nhan-den-kuala-lumpur-bat-dau-tham-malaysia-2443184.html',\n",
       " 'https://vietnamnet.vn/chinh-tri/doi-ngoai',\n",
       " 'https://vietnamnet.vn/chu-tich-quoc-hoi-va-phu-nhan-den-kuala-lumpur-bat-dau-tham-malaysia-2443184.html',\n",
       " 'https://vietnamnet.vn/nhung-cam-ket-cua-tan-chu-tich-ubnd-tinh-khanh-hoa-nguyen-khac-toan-2443192.html',\n",
       " 'https://vietnamnet.vn/chinh-tri',\n",
       " 'https://vietnamnet.vn/nhung-cam-ket-cua-tan-chu-tich-ubnd-tinh-khanh-hoa-nguyen-khac-toan-2443192.html',\n",
       " 'https://vietnamnet.vn/da-nang-se-thong-bao-quyet-dinh-cua-trung-uong-ve-chi-dinh-nhan-su-nhiem-ky-moi-2442945.html',\n",
       " 'https://vietnamnet.vn/chinh-tri',\n",
       " 'https://vietnamnet.vn/da-nang-se-thong-bao-quyet-dinh-cua-trung-uong-ve-chi-dinh-nhan-su-nhiem-ky-moi-2442945.html',\n",
       " 'https://vietnamnet.vn/tinh-than-hai-phong-la-khong-long-vong-tu-chuyen-xe-0-dong-di-xem-trien-lam-2442491.html',\n",
       " 'https://vietnamnet.vn/chinh-tri/ban-luan',\n",
       " 'https://vietnamnet.vn/tinh-than-hai-phong-la-khong-long-vong-tu-chuyen-xe-0-dong-di-xem-trien-lam-2442491.html',\n",
       " 'https://vietnamnet.vn/thai-nguyen-dat-muc-tieu-thanh-tinh-thu-nhap-trung-binh-cao-truoc-nam-2030-2443226.html',\n",
       " 'https://vietnamnet.vn/chinh-tri',\n",
       " 'https://vietnamnet.vn/thai-nguyen-dat-muc-tieu-thanh-tinh-thu-nhap-trung-binh-cao-truoc-nam-2030-2443226.html',\n",
       " 'https://vietnamnet.vn/pho-thu-tuong-yeu-cau-khan-truong-dieu-tra-vu-chay-lam-4-nguoi-chet-tai-ha-noi-2443066.html',\n",
       " 'https://vietnamnet.vn/chinh-tri',\n",
       " 'https://vietnamnet.vn/pho-thu-tuong-yeu-cau-khan-truong-dieu-tra-vu-chay-lam-4-nguoi-chet-tai-ha-noi-2443066.html',\n",
       " 'https://vietnamnet.vn/thu-tuong-nghien-cuu-dua-tri-tue-nhan-tao-vao-tieu-hoc-vua-hoc-vua-choi-2442882.html',\n",
       " 'https://vietnamnet.vn/chinh-tri/su-kien',\n",
       " 'https://vietnamnet.vn/thu-tuong-nghien-cuu-dua-tri-tue-nhan-tao-vao-tieu-hoc-vua-hoc-vua-choi-2442882.html',\n",
       " 'https://vietnamnet.vn/ong-le-hoai-trung-can-chuyen-tu-tam-the-xin-nhan-sang-xay-dung-dong-gop-2442986.html',\n",
       " 'https://vietnamnet.vn/chinh-tri/doi-ngoai',\n",
       " 'https://vietnamnet.vn/ong-le-hoai-trung-can-chuyen-tu-tam-the-xin-nhan-sang-xay-dung-dong-gop-2442986.html',\n",
       " 'https://vietnamnet.vn/dang-uy-bo-dan-toc-va-ton-giao-tham-gia-quan-triet-4-nghi-quyet-cua-bo-chinh-tri-2443130.html',\n",
       " 'https://vietnamnet.vn/chinh-tri',\n",
       " 'https://vietnamnet.vn/dang-uy-bo-dan-toc-va-ton-giao-tham-gia-quan-triet-4-nghi-quyet-cua-bo-chinh-tri-2443130.html']"
      ]
     },
     "execution_count": 52,
     "metadata": {},
     "output_type": "execute_result"
    }
   ],
   "source": [
    "url_news = []\n",
    "\n",
    "for title_new in title_news:\n",
    "    articles = title_new.find_elements(by=By.TAG_NAME, value='a')\n",
    "    for article in articles:\n",
    "        url_new = article.get_attribute('href')\n",
    "        url_news.append(url_new)\n",
    "        \n",
    "url_news"
   ]
  },
  {
   "cell_type": "code",
   "execution_count": 57,
   "metadata": {},
   "outputs": [],
   "source": [
    "for index, url_new in enumerate(url_news):\n",
    "    if not url_new.startswith(HOME_PAGE):\n",
    "        print(index)"
   ]
  },
  {
   "cell_type": "code",
   "execution_count": 100,
   "metadata": {
    "colab": {
     "base_uri": "https://localhost:8080/",
     "height": 36
    },
    "executionInfo": {
     "elapsed": 3,
     "status": "ok",
     "timestamp": 1722169781481,
     "user": {
      "displayName": "Duc Nguyen Quang",
      "userId": "13435852976191392349"
     },
     "user_tz": -420
    },
    "id": "v3Z_9KtqH7ED",
    "outputId": "8c5d8394-efab-4faf-cc5e-e3a33585aa35"
   },
   "outputs": [],
   "source": [
    "# Tìm next page\n",
    "\n",
    "#### CODE\n",
    "next_page = driver.find_element(by=By.CSS_SELECTOR, value='li.pagination-next a')\n",
    "next_url = next_page.get_attribute('href')\n",
    "####"
   ]
  },
  {
   "cell_type": "code",
   "execution_count": 101,
   "metadata": {},
   "outputs": [
    {
     "data": {
      "text/plain": [
       "'https://vietnamnet.vn/chinh-tri-page1'"
      ]
     },
     "execution_count": 101,
     "metadata": {},
     "output_type": "execute_result"
    }
   ],
   "source": [
    "next_url"
   ]
  },
  {
   "cell_type": "code",
   "execution_count": 64,
   "metadata": {
    "id": "9404hQVrH7ED"
   },
   "outputs": [],
   "source": [
    "driver.close()"
   ]
  },
  {
   "cell_type": "markdown",
   "metadata": {
    "id": "UJPZsUzfS7Kr"
   },
   "source": [
    "#### Chạy thật"
   ]
  },
  {
   "cell_type": "code",
   "execution_count": 103,
   "metadata": {
    "id": "DgeLMiYNTdKo"
   },
   "outputs": [],
   "source": [
    "driver = webdriver.Chrome(options=chrome_options)"
   ]
  },
  {
   "cell_type": "code",
   "execution_count": 108,
   "metadata": {
    "id": "dX1a3Fs0H7EB"
   },
   "outputs": [],
   "source": [
    "# Global variables for filtering deduplicating urls\n",
    "crawled_urls = set()\n",
    "\n",
    "def crawl_each_category_url(driver, category_url):\n",
    "    \"\"\"\n",
    "    Functions cho lấy urls cho từng category sau khi thử nghiệm\n",
    "    \"\"\"\n",
    "    # Get all item-news class item\n",
    "    all_urls = set()\n",
    "    url = category_url\n",
    "\n",
    "    #### CODE HERE\n",
    "    while len(all_urls) < NUM_ARTICLES_PER_CAT:\n",
    "        driver.get(url)\n",
    "        title_news = driver.find_elements(by=By.CSS_SELECTOR, value='[class*=\"topStory-\"]')\n",
    "        for title in title_news:\n",
    "            articles = title.find_elements(by=By.TAG_NAME, value='a')\n",
    "            for article in articles:\n",
    "                try:\n",
    "                    url_new = article.get_attribute('href')\n",
    "                    if url_new.startswith(HOME_PAGE) and url_new not in crawled_urls:   # avoid repetition\n",
    "                        all_urls.add(url_new)\n",
    "                        crawled_urls.add(url_new)   # avoid repetition\n",
    "                        \n",
    "                except StaleElementReferenceException:\n",
    "                    continue\n",
    "                except NoSuchElementException:\n",
    "                    print(f'NoSuchElementException at {url}')\n",
    "                    \n",
    "        try:\n",
    "            next_page = driver.find_element(by=By.CSS_SELECTOR, value='li.pagination-next a')\n",
    "            url = next_page.get_attribute('href')\n",
    "        except:\n",
    "            break\n",
    "                    \n",
    "    ####\n",
    "\n",
    "    return all_urls"
   ]
  },
  {
   "cell_type": "code",
   "execution_count": 109,
   "metadata": {
    "id": "Kj-XMg01H7EB"
   },
   "outputs": [
    {
     "name": "stdout",
     "output_type": "stream",
     "text": [
      "You are at {'cat_name': 'Chính trị', 'url': 'https://vietnamnet.vn/chinh-tri'}.\n",
      "You are at {'cat_name': 'Thời sự', 'url': 'https://vietnamnet.vn/thoi-su'}.\n",
      "You are at {'cat_name': 'Kinh doanh', 'url': 'https://vietnamnet.vn/kinh-doanh'}.\n",
      "You are at {'cat_name': 'Dân tộc và Tôn giáo', 'url': 'https://vietnamnet.vn/dan-toc-ton-giao'}.\n",
      "You are at {'cat_name': 'Thể thao', 'url': 'https://vietnamnet.vn/the-thao'}.\n",
      "You are at {'cat_name': 'Giáo dục', 'url': 'https://vietnamnet.vn/giao-duc'}.\n",
      "You are at {'cat_name': 'Thế giới', 'url': 'https://vietnamnet.vn/the-gioi'}.\n",
      "You are at {'cat_name': 'Đời sống', 'url': 'https://vietnamnet.vn/doi-song'}.\n",
      "You are at {'cat_name': 'Văn hóa - Giải trí', 'url': 'https://vietnamnet.vn/van-hoa-giai-tri'}.\n",
      "You are at {'cat_name': 'Sức khỏe', 'url': 'https://vietnamnet.vn/suc-khoe'}.\n",
      "You are at {'cat_name': 'Công nghệ', 'url': 'https://vietnamnet.vn/cong-nghe'}.\n",
      "You are at {'cat_name': 'Pháp luật', 'url': 'https://vietnamnet.vn/phap-luat'}.\n",
      "You are at {'cat_name': 'Ô tô xe máy', 'url': 'https://vietnamnet.vn/oto-xe-may'}.\n",
      "You are at {'cat_name': 'Du lịch', 'url': 'https://vietnamnet.vn/du-lich'}.\n",
      "You are at {'cat_name': 'Bất động sản', 'url': 'https://vietnamnet.vn/bat-dong-san'}.\n",
      "You are at {'cat_name': 'Bạn đọc', 'url': 'https://vietnamnet.vn/ban-doc'}.\n",
      "You are at {'cat_name': 'Tuần Việt Nam', 'url': 'https://vietnamnet.vn/tuan-viet-nam'}.\n",
      "You are at {'cat_name': 'Công nghiệp hỗ trợ', 'url': 'https://vietnamnet.vn/hop-tac/cong-nghiep-ho-tro'}.\n",
      "You are at {'cat_name': 'Bảo vệ người tiêu dùng', 'url': 'https://vietnamnet.vn/bao-ve-nguoi-tieu-dung'}.\n",
      "You are at {'cat_name': 'Thị trường tiêu dùng', 'url': 'https://vietnamnet.vn/thi-truong-tieu-dung'}.\n",
      "You are at {'cat_name': 'Nông thôn mới', 'url': 'https://vietnamnet.vn/nong-thon-moi'}.\n",
      "You are at {'cat_name': 'Dân tộc thiểu số và miền núi', 'url': 'https://vietnamnet.vn/dan-toc-thieu-so-va-mien-nui'}.\n",
      "You are at {'cat_name': 'Nội dung chuyên đề', 'url': 'https://vietnamnet.vn/noi-dung-chuyen-de'}.\n"
     ]
    }
   ],
   "source": [
    "saved_cats = {}\n",
    "\n",
    "# Thu thập cho từng thể loại\n",
    "for cat in cats:\n",
    "    cat_name = cat[\"cat_name\"]\n",
    "    url = cat['url']\n",
    "    if cat_name not in EXCLUDING_CATEGORIES:\n",
    "        print(f\"You are at {cat}.\")\n",
    "        urls = crawl_each_category_url(driver, url)\n",
    "        saved_cats[cat_name] = list(urls)\n",
    "\n",
    "with open(DATA_URL_FILE, \"w\", encoding='utf-8') as fOut:\n",
    "    json.dump(saved_cats, fOut, ensure_ascii=False, indent=4)\n",
    "\n",
    "driver.close()"
   ]
  },
  {
   "cell_type": "code",
   "execution_count": 117,
   "metadata": {
    "id": "NSUco8wNH7EB"
   },
   "outputs": [
    {
     "data": {
      "text/plain": [
       "911"
      ]
     },
     "execution_count": 117,
     "metadata": {},
     "output_type": "execute_result"
    }
   ],
   "source": [
    "len(crawled_urls)"
   ]
  },
  {
   "cell_type": "markdown",
   "metadata": {
    "id": "HU1_kDVZH7ED"
   },
   "source": [
    "### Thu thập và xử lý từng bài báo dựa vào đường dẫn của bước trước: News articles\n",
    "\n",
    "\n",
    "> **Cách thu thập**\n",
    "\n",
    "Từ đường dẫn ở trong phần trước, ta lần lượt vào từng đường link đó và thu thập thông tin về bài báo."
   ]
  },
  {
   "cell_type": "markdown",
   "metadata": {
    "id": "1LqfZYxYUCPa"
   },
   "source": [
    "#### Cài đặt thông số"
   ]
  },
  {
   "cell_type": "code",
   "execution_count": 119,
   "metadata": {
    "id": "oXEEqnQ-UDrz"
   },
   "outputs": [],
   "source": [
    "# Filepath cho cái trước\n",
    "FILE_URL_PATH = \"data/vietnamnet_url.json\"\n",
    "\n",
    "# Đặt limit số articles lấy từ mỗi thể loại\n",
    "MAX_ARTICLES_PER_CAT = 2 # Nếu set = None thì là tất cả các urls ở file trước\n",
    "\n",
    "# Data output, mỗi thể loại là 1 file json chứa articles\n",
    "DATA_FOLDER_OUTPUT = \"data/vietnamnet\"\n",
    "\n",
    "# !mkdir -p $DATA_FOLDER_OUTPUT\n",
    "from pathlib import Path\n",
    "Path(DATA_FOLDER_OUTPUT).mkdir(parents=True, exist_ok=True)\n",
    "\n",
    "# Để loading strategy về eager load nhanh, không quan tâm ảnh\n",
    "chrome_options.page_load_strategy = \"eager\""
   ]
  },
  {
   "cell_type": "code",
   "execution_count": 120,
   "metadata": {
    "id": "14MS59FaUMd_"
   },
   "outputs": [
    {
     "data": {
      "text/plain": [
       "23"
      ]
     },
     "execution_count": 120,
     "metadata": {},
     "output_type": "execute_result"
    }
   ],
   "source": [
    "# Đọc file url\n",
    "with open(FILE_URL_PATH, \"r\", encoding='utf-8') as fIn:\n",
    "    url_data = json.load(fIn)\n",
    "\n",
    "len(url_data)"
   ]
  },
  {
   "cell_type": "markdown",
   "metadata": {
    "id": "K3g9Xwe1H7EE"
   },
   "source": [
    "#### Chạy thử nghiệm"
   ]
  },
  {
   "cell_type": "code",
   "execution_count": 150,
   "metadata": {
    "id": "IA5bIzzVH7EE"
   },
   "outputs": [],
   "source": [
    "driver = webdriver.Chrome(options=chrome_options)\n",
    "\n",
    "# Một số url để thử nghiệm\n",
    "\n",
    "SAMPLE_ARTICLE_URLS = [\n",
    "    \"https://vietnamnet.vn/bat-giam-nguyen-thu-truong-bo-tai-nguyen-va-moi-truong-nguyen-linh-ngoc-2304574.html\",\n",
    "    \"https://vietnamnet.vn/ky-su-cong-nghe-ve-que-nuoi-oc-thu-nhe-lai-nua-ty-moi-nam-2304196.html\",\n",
    "    \"https://vietnamnet.vn/nsnd-thanh-hoa-va-nsnd-le-dung-hai-nguoi-thay-dac-biet-cua-nsut-viet-hoan-2304214.html\",\n",
    "    #author in last\n",
    "    \"https://vietnamnet.vn/doi-giay-cu-mon-giua-gia-lanh-chau-au-cua-tong-bi-thu-nguyen-phu-trong-2303988.html\",\n",
    "    #class maincontent, table ignore\n",
    "    \"https://vietnamnet.vn/lo-dien-cao-toc-dep-bac-nhat-dat-nuoc-chay-xuyen-rung-ngap-man-2303643.html\",\n",
    "]\n",
    "\n",
    "# chọn url\n",
    "SAMPLE_ARTICLE_URL = SAMPLE_ARTICLE_URLS[0]"
   ]
  },
  {
   "cell_type": "code",
   "execution_count": 151,
   "metadata": {
    "id": "bVxBEEkCH7EE"
   },
   "outputs": [],
   "source": [
    "driver.get(SAMPLE_ARTICLE_URL)"
   ]
  },
  {
   "cell_type": "code",
   "execution_count": 152,
   "metadata": {
    "id": "z2Acl33GH7EF"
   },
   "outputs": [
    {
     "data": {
      "text/plain": [
       "'Bắt giam nguyên Thứ trưởng Bộ Tài nguyên và Môi trường Nguyễn Linh Ngọc'"
      ]
     },
     "execution_count": 152,
     "metadata": {},
     "output_type": "execute_result"
    }
   ],
   "source": [
    "# Tìm kiếm title\n",
    "\n",
    "#### CODE HERE\n",
    "driver.find_element(by=By.CSS_SELECTOR, value='h1.content-detail-title').text\n",
    "####\n"
   ]
  },
  {
   "cell_type": "code",
   "execution_count": 153,
   "metadata": {
    "id": "pzp_a40TH7EF"
   },
   "outputs": [
    {
     "data": {
      "text/plain": [
       "'Cục Cảnh sát điều tra tội phạm về tham nhũng, kinh tế, buôn lậu (Bộ Công an) vừa bắt giam ông Nguyễn Linh Ngọc, nguyên Thứ trưởng Bộ TN&MT để điều tra tội Vi phạm quy định về quản lý, sử dụng tài sản Nhà nước gây thất thoát, lãng phí.'"
      ]
     },
     "execution_count": 153,
     "metadata": {},
     "output_type": "execute_result"
    }
   ],
   "source": [
    "# Tìm kiếm description\n",
    "\n",
    "#### CODE HERE\n",
    "driver.find_element(by=By.CSS_SELECTOR, value='h2.content-detail-sapo.sm-sapo-mb-0').text\n",
    "####\n"
   ]
  },
  {
   "cell_type": "code",
   "execution_count": 163,
   "metadata": {
    "id": "8uaTkoyhVrnr"
   },
   "outputs": [
    {
     "data": {
      "text/plain": [
       "('THỜI SỰ', None)"
      ]
     },
     "execution_count": 163,
     "metadata": {},
     "output_type": "execute_result"
    }
   ],
   "source": [
    "# Thu thập thể loại\n",
    "\n",
    "#### CODE HERE\n",
    "lis_cat = driver.find_elements(\n",
    "    By.CSS_SELECTOR,\n",
    "    \"div.bread-crumb-detail.sm-show-time > ul > li:not(:first-child)\"\n",
    ")\n",
    "main_cat = lis_cat[0].text if len(lis_cat) > 0 else None\n",
    "sub_cat = lis_cat[1].text if len(lis_cat) > 1 else None\n",
    "main_cat, sub_cat\n",
    "####"
   ]
  },
  {
   "cell_type": "code",
   "execution_count": 170,
   "metadata": {
    "id": "tsArBHnXVw1i"
   },
   "outputs": [
    {
     "data": {
      "text/plain": [
       "'Thứ tư, 17/09/2025'"
      ]
     },
     "execution_count": 170,
     "metadata": {},
     "output_type": "execute_result"
    }
   ],
   "source": [
    "#Thu thập ngày\n",
    "#### CODE HERE\n",
    "publish_date = driver.find_element(by=By.CSS_SELECTOR, value='div.header__clock.mobile span.header__clock-content').text.strip()\n",
    "publish_date\n",
    "####"
   ]
  },
  {
   "cell_type": "code",
   "execution_count": 175,
   "metadata": {
    "id": "FM3Ayp7uH7EG"
   },
   "outputs": [],
   "source": [
    "# Tìm kiếm contents\n",
    "#### CODE HERE\n",
    "article = driver.find_element(by=By.CLASS_NAME, value='maincontent.main-content')\n",
    "children = article.find_elements(by=By.XPATH, value='./*')\n",
    "####"
   ]
  },
  {
   "cell_type": "code",
   "execution_count": null,
   "metadata": {
    "id": "JnNdQNNFH7EG"
   },
   "outputs": [],
   "source": [
    "# Thu thập contents\n",
    "contents = []\n",
    "author = 'Unknown'\n",
    "\n",
    "for idx, child in enumerate(children):\n",
    "    text = child.text.strip()\n",
    "    if child.tag_name in [\"p\", \"h1\", \"h2\", \"h3\", \"h4\"]: # paragraph\n",
    "\n",
    "        #### CODE HERE\n",
    "        if len(text):\n",
    "            contents.append(f'[{text}]')\n",
    "        ####\n",
    "\n",
    "    elif child.tag_name == \"figure\" :\n",
    "        ## If length > 100  --> not a caption, it's next description\n",
    "        #### CODE HERE\n",
    "        if len(text):\n",
    "            if len(text) <= 100:\n",
    "                contents.append(f'[{text}]')\n",
    "            else:\n",
    "                contents.append(text)\n",
    "        ####\n",
    "\n",
    "    elif child.tag_name == \"table\": # Do nothing rightnow\n",
    "        pass"
   ]
  },
  {
   "cell_type": "code",
   "execution_count": 181,
   "metadata": {
    "id": "_dWuqs77H7EG"
   },
   "outputs": [],
   "source": [
    "# Thu thập tác giả\n",
    "is_author_maybe_last = False\n",
    "try:\n",
    "    #### CODE HERE\n",
    "    author = driver.find_element(by=By.XPATH, value=\"//*[contains(@class, 'author__info')]\").text.strip()\n",
    "    ####\n",
    "except NoSuchElementException:\n",
    "    is_author_maybe_last = True\n",
    "\n",
    "# Nếu không tìm thấy tác giả bên đầu --> tác giả ở cuối content nếu content cuối len < 30\n",
    "if is_author_maybe_last:\n",
    "    if len(contents) and len(contents[-1]) < 30:\n",
    "        author = contents.pop()\n",
    "    else:\n",
    "        author = \"Uknown\""
   ]
  },
  {
   "cell_type": "code",
   "execution_count": 182,
   "metadata": {},
   "outputs": [
    {
     "data": {
      "text/plain": [
       "'T.Nhung'"
      ]
     },
     "execution_count": 182,
     "metadata": {},
     "output_type": "execute_result"
    }
   ],
   "source": [
    "author"
   ]
  },
  {
   "cell_type": "code",
   "execution_count": 185,
   "metadata": {},
   "outputs": [
    {
     "data": {
      "text/plain": [
       "['[Cục Cảnh sát điều tra tội phạm về tham nhũng, kinh tế, buôn lậu (Bộ Công an) đang điều tra vụ án “Vi phạm quy định về nghiên cứu, thăm dò, khai thác tài nguyên; Vi phạm quy định về kế toán gây hậu quả đặc biệt nghiêm trọng; Buôn lậu; Tiêu thụ tài sản do người khác phạm tội mà có; Vi phạm quy định về quản lý, sử dụng tài sản Nhà nước gây thất thoát, lãng phí” xảy ra tại Công ty CP Tập đoàn Thái Dương và các đơn vị liên quan.]',\n",
       " '[Căn cứ kết quả mở rộng điều tra vụ án, ngày 22/7/2024, Cục Cảnh sát điều tra tội phạm về tham nhũng, kinh tế, buôn lậu ra quyết định khởi tố bị can, lệnh bắt bị can để tạm giam, lệnh khám xét đối với 5 bị can về tội “Vi phạm quy định về quản lý, sử dụng tài sản Nhà nước gây thất thoát, lãng phí”, quy định tại Khoản 3 Điều 219 Bộ luật Hình sự năm 2015.]',\n",
       " '[Các bị can bị khởi tố. Ảnh: Bộ Công an]',\n",
       " '[Các bị can gồm: Nguyễn Linh Ngọc, nguyên Thứ trưởng Bộ Tài nguyên và Môi trường; Nguyễn Văn Thuấn, nguyên Tổng cục trưởng Tổng cục Địa chất và Khoáng sản Việt Nam; Hoàng Văn Khoa, nguyên Vụ trưởng Vụ Khoáng sản, Tổng cục Địa chất và Khoáng sản Việt Nam; Hồ Đức Hợp, Giám đốc Sở Tài nguyên – Môi trường tỉnh Yên Bái; Lê Công Tiến, Phó Giám đốc Sở Tài nguyên và Môi trường tỉnh Yên Bái.]',\n",
       " '[CQĐT cũng khởi tố bị can, ra lệnh cấm đi khỏi nơi cư trú và lệnh khám xét đối với các bị can Bùi Đoàn Như, nguyên Trưởng phòng Khoáng sản, Sở Tài nguyên và Môi trường tỉnh Yên Bái và Lê Duy Phương, nguyên chuyên viên chính Vụ Khoáng sản, Tổng cục Địa chất và Khoáng sản để điều tra về tội “Vi phạm quy định về quản lý, sử dụng tài sản Nhà nước gây thất thoát, lãng phí”, quy định tại Khoản 3 Điều 219 Bộ luật Hình sự năm 2015.]',\n",
       " '[Cục Cảnh sát điều tra tội phạm về tham nhũng, kinh tế, buôn lậu đã phối hợp với các đơn vị liên quan tổ chức thi hành các quyết định, lệnh tố tụng đối với các bị can nêu trên.]',\n",
       " '[CQĐT đang tiếp tục củng cố tài liệu, chứng cứ về hành vi phạm tội của các bị can, mở rộng điều tra đối với các đối tượng liên quan để xử lý nghiêm theo quy định của pháp luật; rà soát, xác minh, triệt để thu hồi tài sản cho Nhà nước.]']"
      ]
     },
     "execution_count": 185,
     "metadata": {},
     "output_type": "execute_result"
    }
   ],
   "source": [
    "contents"
   ]
  },
  {
   "cell_type": "code",
   "execution_count": 183,
   "metadata": {
    "id": "zA29AB4sH7EG"
   },
   "outputs": [],
   "source": [
    "driver.close()"
   ]
  },
  {
   "cell_type": "markdown",
   "metadata": {
    "id": "Lw8mEYEDUwMU"
   },
   "source": [
    "#### Chạy thật"
   ]
  },
  {
   "cell_type": "code",
   "execution_count": 193,
   "metadata": {
    "id": "OckXW1P6H7ED"
   },
   "outputs": [],
   "source": [
    "def get_content_metadata(driver, article_url):\n",
    "\n",
    "    \"\"\"\n",
    "    Extracts and returns metadata and content from a given article URL.\n",
    "\n",
    "    :param driver: Selenium WebDriver instance.\n",
    "    :param article_url: URL of the article to extract data from.\n",
    "    :return: Dictionary containing article metadata and content.\n",
    "    \"\"\"\n",
    "\n",
    "    # Get to current article\n",
    "    driver.get(article_url)\n",
    "\n",
    "    # Thu thập title\n",
    "    #### CODE HERE\n",
    "    title = driver.find_element(by=By.CSS_SELECTOR, value='h1.content-detail-title').text\n",
    "    ####\n",
    "\n",
    "    # Thu thập description\n",
    "    #### CODE HERE\n",
    "    description = driver.find_element(by=By.CSS_SELECTOR, value='h2.content-detail-sapo.sm-sapo-mb-0').text\n",
    "    ####\n",
    "\n",
    "    # Thu thập thể loại\n",
    "    #### CODE HERE\n",
    "    lis_cat = driver.find_elements(\n",
    "    By.CSS_SELECTOR,\n",
    "    \"div.bread-crumb-detail.sm-show-time > ul > li:not(:first-child)\"\n",
    "    )\n",
    "    main_cat = lis_cat[0].text if len(lis_cat) > 0 else None\n",
    "    sub_cat = lis_cat[1].text if len(lis_cat) > 1 else None\n",
    "    ####\n",
    "\n",
    "\n",
    "    # Thu thập published date\n",
    "    #### CODE HERE\n",
    "    publish_date = driver.find_element(by=By.CSS_SELECTOR, value='div.header__clock.mobile span.header__clock-content').text.strip()\n",
    "    ####\n",
    "\n",
    "\n",
    "    # Thu thập content bài báo\n",
    "    #### CODE HERE\n",
    "    \n",
    "    article = driver.find_element(by=By.CLASS_NAME, value='maincontent.main-content')\n",
    "    children = article.find_elements(by=By.XPATH, value='./*')\n",
    "\n",
    "    contents = []\n",
    "    author = 'Unknown'\n",
    "\n",
    "    for idx, child in enumerate(children):\n",
    "        text = child.text.strip()\n",
    "        if child.tag_name in [\"p\", \"h1\", \"h2\", \"h3\", \"h4\"]: # paragraph\n",
    "\n",
    "            #### CODE HERE\n",
    "            if len(text):\n",
    "                contents.append(f'[{text}]')\n",
    "            ####\n",
    "\n",
    "        elif child.tag_name == \"figure\" :\n",
    "            ## If length > 100  --> not a caption, it's next description\n",
    "            #### CODE HERE\n",
    "            if len(text):\n",
    "                if len(text) <= 100:\n",
    "                    contents.append(f'[{text}]')\n",
    "                else:\n",
    "                    contents.append(text)\n",
    "            ####\n",
    "\n",
    "        elif child.tag_name == \"table\": # Do nothing rightnow\n",
    "            pass\n",
    "    ####\n",
    "\n",
    "    # Thu thập tác giả\n",
    "    #### CODE HERE\n",
    "    is_author_maybe_last = False\n",
    "    try:\n",
    "        #### CODE HERE\n",
    "        author = driver.find_element(by=By.XPATH, value=\"//*[contains(@class, 'author__info')]\").text.strip()\n",
    "        ####\n",
    "    except NoSuchElementException:\n",
    "        is_author_maybe_last = True\n",
    "\n",
    "    # Nếu không tìm thấy tác giả bên đầu --> tác giả ở cuối content nếu content cuối len < 30\n",
    "    if is_author_maybe_last:\n",
    "        if len(contents) and len(contents[-1]) < 30:\n",
    "            author = contents.pop()\n",
    "        else:\n",
    "            author = \"Uknown\"\n",
    "    ####\n",
    "\n",
    "\n",
    "    return {\n",
    "        \"url\": article_url,\n",
    "        \"title\": title,\n",
    "        \"description\": description,\n",
    "        \"content\": \"\\n\".join(contents),\n",
    "        \"metadata\": {\n",
    "            \"cat\": main_cat,\n",
    "            \"subcat\": sub_cat,\n",
    "            \"published_date\": publish_date,\n",
    "            \"author\": author\n",
    "        }\n",
    "    }\n"
   ]
  },
  {
   "cell_type": "code",
   "execution_count": 195,
   "metadata": {
    "id": "dGtMfw3DH7EE"
   },
   "outputs": [
    {
     "name": "stdout",
     "output_type": "stream",
     "text": [
      "Thu thập dữ liệu thể loại Chính trị ..\n",
      "Bug at url: https://vietnamnet.vn/chinh-tri/ban-luan, with NoSuchElementException\n",
      "Thu thập dữ liệu thể loại Thời sự ..\n",
      "Thu thập dữ liệu thể loại Kinh doanh ..\n",
      "Bug at url: https://vietnamnet.vn/kinh-doanh/doanh-nhan, with NoSuchElementException\n",
      "Thu thập dữ liệu thể loại Dân tộc và Tôn giáo ..\n",
      "Thu thập dữ liệu thể loại Thể thao ..\n",
      "Bug at url: https://vietnamnet.vn/the-thao/tin-chuyen-nhuong, with NoSuchElementException\n",
      "Thu thập dữ liệu thể loại Giáo dục ..\n",
      "Thu thập dữ liệu thể loại Thế giới ..\n",
      "Thu thập dữ liệu thể loại Đời sống ..\n",
      "Bug at url: https://vietnamnet.vn/doi-song, with NoSuchElementException\n",
      "Thu thập dữ liệu thể loại Văn hóa - Giải trí ..\n",
      "Thu thập dữ liệu thể loại Sức khỏe ..\n",
      "Bug at url: https://vietnamnet.vn/suc-khoe/tri-DS40001U2.html#vnn_source=suc-khoe&vnn_medium=box_tracuubenh4, with NoSuchElementException\n",
      "Bug at url: https://vietnamnet.vn/suc-khoe/benh, with NoSuchElementException\n",
      "Thu thập dữ liệu thể loại Công nghệ ..\n",
      "Thu thập dữ liệu thể loại Pháp luật ..\n",
      "Thu thập dữ liệu thể loại Ô tô xe máy ..\n",
      "Thu thập dữ liệu thể loại Du lịch ..\n",
      "Bug at url: https://vietnamnet.vn/du-lich/ngu-nghi, with NoSuchElementException\n",
      "Thu thập dữ liệu thể loại Bất động sản ..\n",
      "Bug at url: https://vietnamnet.vn/bat-dong-san/thi-truong, with NoSuchElementException\n",
      "Thu thập dữ liệu thể loại Bạn đọc ..\n",
      "Bug at url: https://vietnamnet.vn/ban-doc/chia-se, with NoSuchElementException\n",
      "Thu thập dữ liệu thể loại Tuần Việt Nam ..\n",
      "Bug at url: https://vietnamnet.vn/neu-khong-chu-trong-con-nguoi-thi-moi-thiet-ke-chinh-sach-chi-nam-tren-giay-2428305.html, with NoSuchElementException\n",
      "Thu thập dữ liệu thể loại Công nghiệp hỗ trợ ..\n",
      "Thu thập dữ liệu thể loại Bảo vệ người tiêu dùng ..\n",
      "Thu thập dữ liệu thể loại Thị trường tiêu dùng ..\n",
      "Thu thập dữ liệu thể loại Nông thôn mới ..\n",
      "Bug at url: https://vietnamnet.vn/vinh-phuc-nguoi-dan-hao-hung-lam-du-lich-nong-nghiep-gan-voi-xay-dung-ntm-2356087.html, with NoSuchElementException\n",
      "Thu thập dữ liệu thể loại Dân tộc thiểu số và miền núi ..\n",
      "Bug at url: https://vietnamnet.vn/tay-ninh-dong-bao-dtts-huong-loi-tu-xay-dung-nong-thon-moi-2356060.html, with NoSuchElementException\n",
      "Bug at url: https://vietnamnet.vn/tay-ninh-phat-huy-vai-tro-phu-nu-dtts-trong-xay-dung-nong-thon-moi-o-vung-bien-2354456.html, with NoSuchElementException\n",
      "Bug at url: https://vietnamnet.vn/tay-ninh-nhieu-chinh-sach-cham-lo-cho-phu-nu-tre-em-dong-bao-dtts-2354451.html, with NoSuchElementException\n",
      "Thu thập dữ liệu thể loại Nội dung chuyên đề ..\n"
     ]
    }
   ],
   "source": [
    "driver = webdriver.Chrome(options=chrome_options)\n",
    "\n",
    "for cat, urls in url_data.items():\n",
    "\n",
    "    print(f\"Thu thập dữ liệu thể loại {cat} ..\")\n",
    "    count_crawled = 0\n",
    "    cat_data = []\n",
    "    for url in urls:\n",
    "        try:\n",
    "            cat_data.append(get_content_metadata(driver, url))\n",
    "            count_crawled += 1\n",
    "            if MAX_ARTICLES_PER_CAT and count_crawled >= MAX_ARTICLES_PER_CAT:\n",
    "                break\n",
    "\n",
    "        except (StaleElementReferenceException) as e:\n",
    "            print(f\"Bug at url: {url}, with StaleElementReferenceException\")\n",
    "            driver.refresh()\n",
    "            continue\n",
    "\n",
    "        except (NoSuchElementException) as e:\n",
    "            print(f\"Bug at url: {url}, with NoSuchElementException\")\n",
    "            driver.refresh()\n",
    "            continue\n",
    "\n",
    "\n",
    "    name_file_cat = cat.lower().replace(\" \", \"-\") + \".json\"\n",
    "    with open(os.path.join(DATA_FOLDER_OUTPUT, name_file_cat), \"w\", encoding='utf-8') as fOut:\n",
    "        json.dump(cat_data, fOut, ensure_ascii=False, indent=4)\n",
    "\n",
    "driver.close()\n",
    "\n",
    "# Bug will be emagazines and videos, we ignore them as well"
   ]
  },
  {
   "cell_type": "code",
   "execution_count": 196,
   "metadata": {
    "id": "ROTzZ53GX8ln"
   },
   "outputs": [
    {
     "data": {
      "text/plain": [
       "{'url': 'https://vietnamnet.vn/cong-cu-ai-len-ngoi-website-van-giu-vi-tri-ngoi-nha-so-cua-doanh-nghiep-2434899.html',\n",
       " 'title': 'Công cụ AI lên ngôi, website vẫn giữ vị trí “ngôi nhà số” của doanh nghiệp',\n",
       " 'description': 'Các công cụ AI đang thay đổi cách người dùng tiếp cận thông tin trên Internet. Song trong bức tranh kinh doanh online, website tên miền riêng vẫn là “ngôi nhà số”, nơi doanh nghiệp tạo dựng niềm tin, thương hiệu và thúc đẩy giao dịch.',\n",
       " 'content': '[Thời gian vừa qua, sự xuất hiện của ChatGPT và các công cụ trí tuệ nhân tạo - AI đã tạo ra một bước ngoặt lớn trong hành vi tìm kiếm của người dùng Internet.]\\n[Thay vì chọn lọc thông tin từ loạt kết quả được công cụ hỗ trợ tìm kiếm như Google đưa ra theo từ khóa như trước đây, hiện nay người dùng chỉ cần đặt câu hỏi cụ thể cho ChatGPT là có toàn bộ thông tin được tổng hợp sẵn, trình bày gọn gàng, có ngữ cảnh và thậm chí mang tính tư vấn.]\\n[Sự thay đổi trên khiến cho trải nghiệm tìm kiếm thông tin trở nên cá nhân hóa hơn, tiết kiệm thời gian và dễ dàng tiếp cận với mọi đối tượng, kể cả những người ít kỹ năng công nghệ.]\\nChatGPT và các công cụ AI đang ngày càng phổ biến, làm thay đổi hành vi tìm kiếm của người dùng Internet.\\n[Trong bối cảnh các công cụ AI ngày càng phổ biến, một câu hỏi đặt ra là \"Liệu rằng website - vốn gắn liền với thói quen tìm kiếm truyền thống có còn cần thiết, khi các công cụ như ChatGPT đã có thể trả lời hầu hết các thắc mắc ngay trong cuộc trò chuyện?\".]\\n[Thực tế, không ít người cho rằng, khi mọi câu hỏi đều có thể được AI giải đáp tức thì, website, nơi từng được coi là “điểm đến tất yếu” sau một lượt tìm kiếm Google, sẽ dần trở nên thừa thãi. Đặc biệt trong kinh doanh online, không ít doanh nghiệp e ngại rằng khách hàng chỉ cần hỏi trực tiếp AI là đủ, mà không cần truy cập website để tìm hiểu sản phẩm, dịch vụ như trước.]\\n[Khẳng định nhận xét trên là chưa chính xác, một chuyên gia AI lý giải: AI có thể tổng hợp, giải thích và định hướng thông tin, nhưng bản chất nó không sở hữu dữ liệu gốc và cũng không phải nơi giao dịch chính thức. Khi người dùng muốn mua hàng, đăng ký dịch vụ, hay xác thực độ tin cậy của một thương hiệu, họ vẫn cần được dẫn tới nguồn thông tin chính danh, mà đó chính là website của doanh nghiệp.]\\n[Minh chứng cho nhận định của mình, vị chuyên gia này dẫn ra kết quả khảo sát tại Mỹ cho thấy, lượng click dẫn đến website từ chatbot AI chỉ bằng 1/379 lần so với Google. Điều này chứng minh rằng, thay vì ý nghĩ “không cần” website, sự phát triển của AI chỉ đang tái định nghĩa vai trò của nó: Từ chỗ người dùng phải chủ động tìm kiếm, nay website trở thành đích đến cuối cùng mà AI, Google hay bất kỳ nền tảng nào đều phải dẫn khách hàng quay về.]\\n[“Ngôi nhà số” giúp doanh nghiệp tạo dựng thương hiệu]\\n[Theo các chuyên gia Internet, website với tên miền riêng chính là “ngôi nhà số” của mỗi tổ chức, cá nhân, doanh nghiệp. Đây là tài sản số chính danh, nơi doanh nghiệp có toàn quyền kiểm soát nội dung, thương hiệu và trải nghiệm khách hàng.]\\n[Mạng xã hội có thể rất mạnh trong việc tiếp cận và thu hút sự chú ý, nhưng bản chất nó chỉ là “gian hàng thuê” trong một khu chợ đông đúc, phụ thuộc hoàn toàn vào thuật toán và chính sách của nền tảng. Trong khi đó, website lại giống như ngôi nhà thật sự của doanh nghiệp, với tính ổn định, sự bền vững và đáng tin cậy.]\\nTheo thống kê của VNNIC, lũy kế đến giữa tháng 8/2025, tên miền “biz.vn” đã đạt hơn 9.500 và tổng số tên miền \".vn\" là khoảng 664.000.\\n[Phân tích của các chuyên gia cũng chỉ ra rằng, những nền tảng mạng xã hội chỉ nên được định hình là “phễu thông tin”, nơi tạo nhận diện và kéo khách hàng về. Còn nơi để xây dựng niềm tin, để khách hàng ra quyết định và giao dịch, sẽ luôn là website. Đây cũng là lý do vì sao dù công cụ tìm kiếm có thay đổi, ChatGPT và các công cụ AI vẫn ưu tiên dẫn khách về website, chứ không phải các kênh khác.]\\n[ChatGPT và các công cụ AI lựa chọn trích dẫn nguồn nội dung ổn định, có tính chính danh, minh bạch; và nguồn đó thường là website với tên miền riêng. Bởi lẽ, website có địa chỉ cố định (URL, tên miền), dễ kiểm chứng, dễ dẫn nguồn; nội dung trên website được xuất bản công khai và có thể được hệ thống AI/Google lập chỉ mục, kiểm chứng; website thuộc quyền sở hữu độc lập của doanh nghiệp, không bị chi phối bởi chính sách thuật toán của bên thứ ba.]\\n[Trong khi đó, các nền tảng mạng xã hội với nội dung biến đổi liên tục, khó lập chỉ mục ổn định cho AI. Các trang này nằm trong hệ sinh thái khép kín của nền tảng. AI không phải lúc nào cũng có quyền truy cập dữ liệu đầy đủ, thậm chí nhiều phần nội dung bị chặn (private, group, thuật toán phân phối). \"]\\n[Chính vì vậy, website với tên miền riêng trở thành kênh online bảo đảm tính ổn định, minh bạch và quyền sở hữu trọn vẹn cho doanh nghiệp. Và trong từng thị trường cụ thể, yếu tố tên miền lại càng có ý nghĩa quan trọng.]\\n[Tại Việt Nam, điều đó được thể hiện rõ nhất qua tên miền quốc gia “.vn”. Nếu doanh nghiệp muốn tiếp cận và chinh phục khách hàng Việt, website với tên miền “.vn” là lựa chọn tối ưu. Tên miền “.vn” là yếu tố khác biệt giúp doanh nghiệp tạo dựng niềm tin với khách hàng nội địa. Khi nhìn thấy một website gắn với .VN, người tiêu dùng dễ dàng nhận biết đây là thương hiệu trong nước, tin cậy và được pháp luật Việt Nam bảo hộ.]\\n[Theo thống kê của Trung tâm Internet Việt Nam – VNNIC (Bộ KH&CN), tên miền “.vn” nói chung và tên miền “.biz.vn” vẫn liên tục tăng trưởng trong thời gian qua, phân nào cho thấy nhiều doanh nghiệp vẫn chọn website là nơi tạo dựng uy tín, niềm tin với khách hàng và thúc đẩy giao dịch. Lũy kế đến giữa tháng 8/2025, tên miền “biz.vn” đã đạt hơn 9.500 và tổng số tên miền \".vn\" là khoảng 664.000.]\\n[\"AI có thể thay đổi cách người dùng tìm kiếm thông tin, nhưng không thể thay thế website – nơi giúp doanh nghiệp tạo dựng uy tín và thúc đẩy giao dịch. Với thị trường Việt Nam, doanh nghiệp muốn phát triển bền vững nên bắt đầu bằng website với tên miền quốc gia .vn\", một chuyên gia Internet nêu quan điểm.]',\n",
       " 'metadata': {'cat': 'NỘI DUNG CHUYÊN ĐỀ',\n",
       "  'subcat': None,\n",
       "  'published_date': '',\n",
       "  'author': 'Uknown'}}"
      ]
     },
     "execution_count": 196,
     "metadata": {},
     "output_type": "execute_result"
    }
   ],
   "source": [
    "# Xem 1 sample\n",
    "cat_data[-1]"
   ]
  },
  {
   "cell_type": "code",
   "execution_count": 197,
   "metadata": {},
   "outputs": [
    {
     "name": "stdout",
     "output_type": "stream",
     "text": [
      "Chính trị - 47\n",
      "Thời sự - 51\n",
      "Kinh doanh - 30\n",
      "Dân tộc và Tôn giáo - 41\n",
      "Thể thao - 38\n",
      "Giáo dục - 33\n",
      "Thế giới - 43\n",
      "Đời sống - 34\n",
      "Văn hóa - Giải trí - 48\n",
      "Sức khỏe - 38\n",
      "Công nghệ - 32\n",
      "Pháp luật - 40\n",
      "Ô tô xe máy - 46\n",
      "Du lịch - 43\n",
      "Bất động sản - 40\n",
      "Bạn đọc - 38\n",
      "Tuần Việt Nam - 51\n",
      "Công nghiệp hỗ trợ - 36\n",
      "Bảo vệ người tiêu dùng - 37\n",
      "Thị trường tiêu dùng - 32\n",
      "Nông thôn mới - 38\n",
      "Dân tộc thiểu số và miền núi - 39\n",
      "Nội dung chuyên đề - 36\n"
     ]
    }
   ],
   "source": [
    "for key in url_data.keys():\n",
    "    print(f'{key} - {len(url_data[key])}')"
   ]
  },
  {
   "cell_type": "markdown",
   "metadata": {
    "id": "fJJ0nyIrBfVl"
   },
   "source": [
    "## Lưu dữ liệu\n",
    "\n",
    "Nếu bạn chạy ở máy cá nhân thì không cần, nhưng nếu mà chạy ở Colab thì nên lưu dữ liệu vào trong Google Drive\n"
   ]
  },
  {
   "cell_type": "code",
   "execution_count": null,
   "metadata": {
    "colab": {
     "base_uri": "https://localhost:8080/"
    },
    "executionInfo": {
     "elapsed": 3012,
     "status": "ok",
     "timestamp": 1722171513486,
     "user": {
      "displayName": "Duc Nguyen Quang",
      "userId": "13435852976191392349"
     },
     "user_tz": -420
    },
    "id": "BaOtPsXgBvlh",
    "outputId": "4c0e04bb-8478-464b-990d-704d89dd8adf"
   },
   "outputs": [
    {
     "name": "stdout",
     "output_type": "stream",
     "text": [
      "Drive already mounted at /content/drive; to attempt to forcibly remount, call drive.mount(\"/content/drive\", force_remount=True).\n"
     ]
    }
   ],
   "source": [
    "# For Google Colab\n",
    "from google.colab import drive\n",
    "drive.mount('/content/drive')"
   ]
  },
  {
   "cell_type": "code",
   "execution_count": null,
   "metadata": {
    "id": "kg7zi2KICBn8"
   },
   "outputs": [],
   "source": [
    "# Set to your folder\n",
    "FOLDER_SAVED_GOOGLE_COLAB = \"/content/drive/MyDrive/crawl-news/\"\n",
    "\n",
    "# Copy\n",
    "!cp -r data $FOLDER_SAVED_GOOGLE_COLAB"
   ]
  }
 ],
 "metadata": {
  "colab": {
   "provenance": [],
   "toc_visible": true
  },
  "kernelspec": {
   "display_name": "Python 3",
   "language": "python",
   "name": "python3"
  },
  "language_info": {
   "codemirror_mode": {
    "name": "ipython",
    "version": 3
   },
   "file_extension": ".py",
   "mimetype": "text/x-python",
   "name": "python",
   "nbconvert_exporter": "python",
   "pygments_lexer": "ipython3",
   "version": "3.11.9"
  }
 },
 "nbformat": 4,
 "nbformat_minor": 0
}
